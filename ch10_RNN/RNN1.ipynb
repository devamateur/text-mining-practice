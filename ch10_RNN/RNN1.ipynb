{
 "cells": [
  {
   "attachments": {
    "image-2.png": {
     "image/png": "[encoded data removed]"
    },
    "image-3.png": {
     "image/png": "[encoded data removed]"
    },
    "image.png": {
     "image/png": "[encoded data removed]"
    }
   },
   "cell_type": "markdown",
   "id": "673e61e8",
   "metadata": {},
   "source": [
    "# RNN을 이용한 문서 분류\n",
    "## RNN(Recurrent Neural Networks)\n",
    "- 순차 데이터나 시계열 데이터를 다루는 모형\n",
    "- 입/출력을 시퀀스로 처리함 -> 단어의 순서를 고려하므로 문맥 파악에 좋음\n",
    "- 활성화 함수: tanh(하이퍼볼릭 탄젠트)\n",
    "\n",
    "<br/> <br/>\n",
    "> 시계역 데이터: 일정 시간 간격으로 측정된 데이터 &nbsp; &nbsp; ex) 한 시간마다 측정한 기온 <br/>\n",
    "&nbsp; &nbsp; 시계열 모형에서는 앞의 값들이 뒤의 값에 영향을 미친다고 가정함 <br/>\n",
    "&nbsp; &nbsp; ex) t시점 온도 x(t) 예측을 위해 그 전 4시간의 온도 [x(t-4), x(t-3), x(t-2), x(t-1)] 를 입력으로 사용\n",
    "\n",
    "<br/> <br/>\n",
    "## [RNN vs Feed Forward](https://wikidocs.net/22886)\n",
    "### RNN의 구조\n",
    "![image.png](attachment:image.png)\n",
    "- x: 입력 벡터\n",
    "- 초록색: 셀, 이전 값을 기억하는 일종의 메모리 역할, **다음 시점 t+1에 값을 보냄 -> 은닉 상태(hidden state)**\n",
    "- y: 출력 벡터\n",
    "> 수식 <br/>\n",
    "![image-3.png](attachment:image-3.png)\n",
    "\n",
    "### 순방향 신경망(Feed Forward Nueral Network)\n",
    "- 노드 간의 연결이 순환을 생성하지 않음\n",
    "- 입력층 -> 은닉층 -> 출력층\n",
    "- ex) CNN\n",
    "\n",
    "<br/> <br/>\n",
    "\n",
    "## RNN 유형\n",
    "![image-2.png](attachment:image-2.png)\n",
    "- 일대일(Fixsed size) ex) 이미지 분류\n",
    "- 일대다(Sequence output) ex) 이미지 캡셔닝\n",
    "- 다대일(Sequence input) ex) 감성분석 신경망\n",
    "- 다대다(Sequence to sequence) ex) 기계번역\n",
    "\n",
    "<br/> <br/>\n",
    "\n",
    "## RNN 단점\n",
    "**기울기 소실 문제(Gradient Vanishing)**: 입력층에 가까운 층들에서 기울기가 작아져 가중치가 제대로 업데이트 되지 않는 문제 <br/>\n",
    "&nbsp; &nbsp; tanh를 활성화 함수로 사용해서 발생하는 문제 => 장기 의존성 문제 <br/>\n",
    "\n",
    "이를 해결하기 위해 LSTM(Long Short-Term Memory)이 등장\n",
    "<br/> <br/> <br/>"
   ]
  },
  {
   "cell_type": "code",
   "execution_count": 6,
   "id": "dda8db83",
   "metadata": {},
   "outputs": [
    {
     "name": "stdout",
     "output_type": "stream",
     "text": [
      "reviews count:  2000\n",
      "first review:  4043\n",
      "Labels:  {'neg', 'pos'}\n"
     ]
    }
   ],
   "source": [
    "# RNN을 이용해 NLTK 영화 리뷰 감성분석에 앞서\n",
    "# 데이터 전처리\n",
    "\n",
    "from nltk.corpus import movie_reviews\n",
    "fileids = movie_reviews.fileids()\n",
    "\n",
    "reviews = [movie_reviews.raw(fileid) for fileid in fileids]\n",
    "categories = [movie_reviews.categories(fileid)[0] for fileid in fileids]\n",
    "\n",
    "print(\"reviews count: \", len(reviews))\n",
    "print(\"first review: \", len(reviews[0]))\n",
    "print(\"Labels: \", set(categories))"
   ]
  },
  {
   "cell_type": "code",
   "execution_count": 7,
   "id": "05ec6567",
   "metadata": {},
   "outputs": [
    {
     "name": "stdout",
     "output_type": "stream",
     "text": [
      "Lengths of first 10 documents: [710, 240, 486, 479, 733, 671, 550, 584, 702, 776]\n"
     ]
    }
   ],
   "source": [
    "# keras의 토크나이저를 이용해 문서를 인덱스의 시퀀스로 변환\n",
    "# ex) \"I am so happy\" -> ['I', 'am', 'so', 'happy'] -> [7, 2, 9, 13]\n",
    "\n",
    "import numpy as np\n",
    "import tensorflow as tf\n",
    "from tensorflow.keras.preprocessing.text import Tokenizer\n",
    "np.random.seed(7)\n",
    "tf.random.set_seed(7)\n",
    "\n",
    "max_words = 10000 #사용할 단어의 수\n",
    "\n",
    "tokenizer = Tokenizer(num_words=max_words, oov_token='UNK')  # 토크나이저, oov_token: 사전에 없는 단어 처리 가능, 여기서는 공통값으로 대체\n",
    "\n",
    "tokenizer.fit_on_texts(reviews) #단어 인덱스 구축\n",
    "\n",
    "X = tokenizer.texts_to_sequences(reviews)   # 문서를 단어 인덱스로 변환\n",
    "\n",
    "print('Lengths of first 10 documents:', [len(doc) for doc in X[:10]])       # 인덱스 시퀀스의 길이가 제각기 다름 -> 크기를 맞춰야 함"
   ]
  },
  {
   "cell_type": "code",
   "execution_count": 9,
   "id": "9061be24",
   "metadata": {},
   "outputs": [
    {
     "name": "stdout",
     "output_type": "stream",
     "text": [
      "Index of 'the':  2\n",
      "Index of 'review':  466\n",
      "Index of 'good':  62\n",
      "Index of 'marvel':  5998\n",
      "Index of out-of-vocabulary words: 1\n",
      "Index length:  43297\n"
     ]
    }
   ],
   "source": [
    "# 단어의 인덱스 확인\n",
    "print(\"Index of 'the': \", tokenizer.word_index[\"the\"])\n",
    "print(\"Index of 'review': \", tokenizer.word_index[\"review\"])\n",
    "print(\"Index of 'good': \", tokenizer.word_index[\"good\"])\n",
    "print(\"Index of 'marvel': \", tokenizer.word_index[\"marvel\"])\n",
    "print(\"Index of out-of-vocabulary words:\", tokenizer.word_index[\"UNK\"])\n",
    "print(\"Index length: \", len(tokenizer.word_index))"
   ]
  },
  {
   "cell_type": "code",
   "execution_count": 10,
   "id": "3edae72e",
   "metadata": {},
   "outputs": [],
   "source": [
    "# 입력 변환\n",
    "# 가변적인 인덱스 시퀀스 길이를 동일한 크기로 변환\n",
    "\n",
    "from tensorflow.keras.preprocessing.sequence import pad_sequences\n",
    "\n",
    "maxlen = 500 #문서의 단어 수를 제한\n",
    "\n",
    "# 문서의 단어 수가 500보다 작으면 0을 채우고, 크면 잘라냄\n",
    "# 잘라낼 때, 앞을 자를 지, 뒤를 자를 지 선택할 수 있음. 앞을 자르고 뒷부분을 쓰고자 하면 'pre' 선택\n",
    "X = pad_sequences(X, maxlen=maxlen, truncating='pre') "
   ]
  },
  {
   "cell_type": "code",
   "execution_count": 11,
   "id": "398e513c",
   "metadata": {},
   "outputs": [
    {
     "name": "stdout",
     "output_type": "stream",
     "text": [
      "{0, 1}\n"
     ]
    }
   ],
   "source": [
    "# 출력 변환\n",
    "import numpy as np\n",
    "\n",
    "# label을 0, 1의 값으로 변환\n",
    "label_dict = {'pos':1, 'neg':0}\n",
    "y = np.array([label_dict[c] for c in categories])\n",
    "print(set(y))"
   ]
  },
  {
   "cell_type": "code",
   "execution_count": 12,
   "id": "e2b35264",
   "metadata": {},
   "outputs": [
    {
     "name": "stdout",
     "output_type": "stream",
     "text": [
      "Train set count: 1600\n",
      "Test set count: 400\n",
      "Test samples: [0 1 1 0 1 1 0 0 0 0 1 1 0 0 1 0 0 1 1 1]\n"
     ]
    }
   ],
   "source": [
    "# train/test split\n",
    "from sklearn.model_selection import train_test_split \n",
    "X_train, X_test, y_train, y_test = train_test_split(X, y, test_size=0.2, random_state=10)\n",
    "\n",
    "print('Train set count:', len(X_train))\n",
    "print('Test set count:', len(X_test))\n",
    "print('Test samples:', y_test[:20])"
   ]
  },
  {
   "cell_type": "code",
   "execution_count": 13,
   "id": "9172d037",
   "metadata": {},
   "outputs": [
    {
     "name": "stdout",
     "output_type": "stream",
     "text": [
      "Model: \"sequential\"\n",
      "_________________________________________________________________\n",
      " Layer (type)                Output Shape              Param #   \n",
      "=================================================================\n",
      " embedding (Embedding)       (None, 500, 32)           320000    \n",
      "                                                                 \n",
      " flatten (Flatten)           (None, 16000)             0         \n",
      "                                                                 \n",
      " dense (Dense)               (None, 1)                 16001     \n",
      "                                                                 \n",
      "=================================================================\n",
      "Total params: 336,001\n",
      "Trainable params: 336,001\n",
      "Non-trainable params: 0\n",
      "_________________________________________________________________\n"
     ]
    }
   ],
   "source": [
    "## 1. 일반 신경망 모델을 이용해 분류\n",
    "from tensorflow.keras.models import Sequential\n",
    "from tensorflow.keras.layers import Flatten, Dense, Embedding\n",
    "\n",
    "model = Sequential([ #순차적 모형\n",
    "    Embedding(max_words, 32, input_length=maxlen), #Embedding: 워드 임베딩 수행\n",
    "    # max_words는 one-hot encoding을 할 때의 vector 크기가 됨 - 사용된 단어의 수만큼\n",
    "    # 각 단어는 32 크기의 dense vector로 embedding 됨\n",
    "    # input_length: 한 document의 단어 수\n",
    "    # 이 과정을 거치면 각 document는 (maxlen, 32)의 2차원 행렬이 됨 - 즉 word의 sequence가 됨\n",
    "\n",
    "    Flatten(), # 2차원 -> 1차원\n",
    "    Dense(1, activation='sigmoid') #binary logistic regression을 수행\n",
    "])\n",
    "\n",
    "model.summary() #모델의 요약정보 출력"
   ]
  },
  {
   "cell_type": "code",
   "execution_count": 14,
   "id": "fbd10849",
   "metadata": {},
   "outputs": [
    {
     "name": "stdout",
     "output_type": "stream",
     "text": [
      "Epoch 1/10\n",
      "40/40 [==============================] - 5s 27ms/step - loss: 0.6913 - acc: 0.5281 - val_loss: 0.6858 - val_acc: 0.5688\n",
      "Epoch 2/10\n",
      "40/40 [==============================] - 1s 13ms/step - loss: 0.5859 - acc: 0.9234 - val_loss: 0.6737 - val_acc: 0.6156\n",
      "Epoch 3/10\n",
      "40/40 [==============================] - 1s 20ms/step - loss: 0.4473 - acc: 0.9773 - val_loss: 0.6494 - val_acc: 0.6406\n",
      "Epoch 4/10\n",
      "40/40 [==============================] - 1s 15ms/step - loss: 0.2894 - acc: 0.9945 - val_loss: 0.6198 - val_acc: 0.6469\n",
      "Epoch 5/10\n",
      "40/40 [==============================] - 1s 14ms/step - loss: 0.1608 - acc: 0.9984 - val_loss: 0.5920 - val_acc: 0.6844\n",
      "Epoch 6/10\n",
      "40/40 [==============================] - 1s 15ms/step - loss: 0.0786 - acc: 0.9992 - val_loss: 0.5762 - val_acc: 0.6719\n",
      "Epoch 7/10\n",
      "40/40 [==============================] - 1s 13ms/step - loss: 0.0348 - acc: 1.0000 - val_loss: 0.5645 - val_acc: 0.6938\n",
      "Epoch 8/10\n",
      "40/40 [==============================] - 1s 19ms/step - loss: 0.0140 - acc: 1.0000 - val_loss: 0.5629 - val_acc: 0.7094\n",
      "Epoch 9/10\n",
      "40/40 [==============================] - 1s 23ms/step - loss: 0.0053 - acc: 1.0000 - val_loss: 0.5585 - val_acc: 0.7094\n",
      "Epoch 10/10\n",
      "40/40 [==============================] - 1s 20ms/step - loss: 0.0018 - acc: 1.0000 - val_loss: 0.5805 - val_acc: 0.7188\n"
     ]
    }
   ],
   "source": [
    "model.compile(optimizer='rmsprop', loss='binary_crossentropy', metrics=['acc'])\n",
    "# 학습\n",
    "history = model.fit(X_train, y_train, \n",
    "                    epochs=10,\n",
    "                    verbose=1,\n",
    "                    validation_split=0.2)"
   ]
  },
  {
   "cell_type": "code",
   "execution_count": 15,
   "id": "3fc72cd4",
   "metadata": {},
   "outputs": [
    {
     "data": {
      "image/png": "[encoded data removed]",
      "text/plain": [
       "<Figure size 432x288 with 1 Axes>"
      ]
     },
     "metadata": {
      "needs_background": "light"
     },
     "output_type": "display_data"
    }
   ],
   "source": [
    "# accuracy 시각화\n",
    "%matplotlib inline\n",
    "import matplotlib.pyplot as plt\n",
    "\n",
    "def plot_results(history, metric):\n",
    "    plt.plot(history.history[metric], 'b', label='Training '+metric)\n",
    "    plt.plot(history.history['val_'+metric], 'r', label='Validation '+metric)\n",
    "    plt.title('Training vs. Validation '+metric)\n",
    "    plt.xlabel('Epochs')\n",
    "    plt.ylabel(metric)\n",
    "    plt.legend()\n",
    "    plt.show()\n",
    "\n",
    "plot_results(history, 'acc')\n",
    "# 과대 적합의 가능성이 있음"
   ]
  },
  {
   "cell_type": "code",
   "execution_count": 18,
   "id": "079792e0",
   "metadata": {},
   "outputs": [
    {
     "name": "stdout",
     "output_type": "stream",
     "text": [
      "13/13 [==============================] - 0s 10ms/step - loss: 0.5605 - acc: 0.7225\n",
      "#Test loss:0.561\n",
      "#Test accuracy:0.723\n"
     ]
    }
   ],
   "source": [
    "# 모델 평가\n",
    "score = model.evaluate(X_test, y_test)\n",
    "print(f'#Test loss:{score[0]:.3f}')\n",
    "print(f'#Test accuracy:{score[1]:.3f}')"
   ]
  },
  {
   "cell_type": "code",
   "execution_count": null,
   "id": "30427e0e",
   "metadata": {},
   "outputs": [],
   "source": []
  }
 ],
 "metadata": {
  "kernelspec": {
   "display_name": "Python 3 (ipykernel)",
   "language": "python",
   "name": "python3"
  },
  "language_info": {
   "codemirror_mode": {
    "name": "ipython",
    "version": 3
   },
   "file_extension": ".py",
   "mimetype": "text/x-python",
   "name": "python",
   "nbconvert_exporter": "python",
   "pygments_lexer": "ipython3",
   "version": "3.9.7"
  }
 },
 "nbformat": 4,
 "nbformat_minor": 5
}

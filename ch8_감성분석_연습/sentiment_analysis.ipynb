{
 "cells": [
  {
   "attachments": {
    "image.png": {
     "image/png": "[encoded data removed]"
    }
   },
   "cell_type": "markdown",
   "id": "43021da2",
   "metadata": {},
   "source": [
    "# 감성 분석(Sentiment Analysis)\n",
    "## 텍스트의 어조가 긍정, 중립, 부정인지 분석\n",
    "- 긍정(positive), 중립(neutral), 부정(negative)와 같은 감성의 정도를 **극성(polarity)**이라고 함 <br/>\n",
    "극성은 주로 숫자로 표현됨 &nbsp; &nbsp; ex)긍정:+, 중립:0, 부정:- <br/><br/>\n",
    "\n",
    "## [감성분석의 어려운점](https://aws.amazon.com/ko/what-is/sentiment-analysis/)\n",
    "- 비꼬기 &nbsp; &nbsp; ex) \"아주 훌륭해요! 물건을 받는 데 3주나 걸렸어요.\"\n",
    "- 부정 &nbsp; &nbsp; &nbsp; ex) \"구독료가 비싸다고 말하지는 않을 것입니다.\"&nbsp; &nbsp;  \"영화가 안 좋다고 아니 할 수 없다고 하기 어렵다.\"\n",
    "- 다극성: 문장에 둘 이상의 감정이 포함되어 있을 때 &nbsp; &nbsp; &nbsp; ex) \"견고한 구조는 만족스럽지만 색상은 그다지 인상적이지 않습니다.\"\n",
    "<br/> <br/><br/>\n",
    "\n",
    "## 감성분석 방법론\n",
    "### 1. 어휘 기반(lexicon-based)\n",
    "- 명사, 형용사, 동사 등 모든 단어에 대해 긍정 혹은 부정의 감성을 붙여 감성 사전을 구축하여 감성 분석을 수행하는 방식 <br/>\n",
    "ex) '마블 영화는 액션이 화려하다'를 형태소 분석 -> ['마블', '영화', '액션', '화려하다'] <br/>\n",
    "&nbsp; &nbsp; &nbsp; 가장 간단한 방법은 각 극성의 합을 구하는 것, 여기서는 '화려하다'가 긍정이므로 1을 가짐 => 따라서 긍정이라고 판단 <br/>\n",
    "- 극성의 합을 이용한 감성 계산의 문제점\n",
    "한 번의 부정으로 전체 문장이 부정이 되는 경우 ex) '영상이 유려하거나 배우가 연기를 잘하거나 시나리오가 좋은 것은 **아니다**' <br/>\n",
    "\n",
    "- 이 문제점을 극복하기 위한 방법\n",
    "**청킹(Chunking)**: 문장의 형태소를 분석하고 다시 명사구, 형용사구와 같은 구로 묶음 <br/>\n",
    "청킹을 한 뒤, 밑의 단어에서 상위 구로 이동하면서 긍정/부정을 결정한다\n",
    "![image.png](attachment:image.png)\n",
    "<br/>\n",
    "\n",
    "### 2. 머신러닝 기반\n",
    "- 학습용 리뷰 데이터셋과 리뷰에 대한 감성 Label 데이터셋이 필요\n",
    "- Label이 긍정/중립/부정으로 나뉜 일종의 문서 분류 문제로 볼 수 있음"
   ]
  },
  {
   "cell_type": "code",
   "execution_count": 1,
   "id": "7b6c5b56",
   "metadata": {},
   "outputs": [
    {
     "name": "stderr",
     "output_type": "stream",
     "text": [
      "[nltk_data] Downloading package movie_reviews to\n",
      "[nltk_data]     C:\\Users\\ing06\\AppData\\Roaming\\nltk_data...\n"
     ]
    },
    {
     "name": "stdout",
     "output_type": "stream",
     "text": [
      "# review length:  2000\n"
     ]
    },
    {
     "name": "stderr",
     "output_type": "stream",
     "text": [
      "[nltk_data]   Package movie_reviews is already up-to-date!\n"
     ]
    }
   ],
   "source": [
    "# 감성 사전을 이용한 영화 리뷰 감성 분석\n",
    "# nltk의 movie_reviews 데이터셋 이용\n",
    "\n",
    "import nltk\n",
    "nltk.download('movie_reviews')\n",
    "\n",
    "from nltk.corpus import movie_reviews\n",
    "\n",
    "print(\"# review length: \", len(movie_reviews.fileids()))"
   ]
  },
  {
   "cell_type": "code",
   "execution_count": 2,
   "id": "c5baa7fe",
   "metadata": {},
   "outputs": [
    {
     "name": "stdout",
     "output_type": "stream",
     "text": [
      "# samples of file ids:  ['neg/cv000_29416.txt', 'neg/cv001_19502.txt', 'neg/cv002_17424.txt', 'neg/cv003_12683.txt', 'neg/cv004_12641.txt', 'neg/cv005_29357.txt', 'neg/cv006_17022.txt', 'neg/cv007_4992.txt', 'neg/cv008_29326.txt', 'neg/cv009_29417.txt']\n",
      "# label of reviews:  ['neg', 'pos']\n",
      "# num of 'pos' reviews:  1000\n",
      "# num of 'neg' reviews:  1000\n"
     ]
    }
   ],
   "source": [
    "# 파일 10개\n",
    "print(\"# samples of file ids: \", movie_reviews.fileids()[:10])\n",
    "\n",
    "# label - movie_reviews.categories()\n",
    "print(\"# label of reviews: \", movie_reviews.categories())\n",
    "\n",
    "# 긍정 리뷰의 개수 반환\n",
    "print(\"# num of 'pos' reviews: \", len(movie_reviews.fileids(categories='pos')))\n",
    "\n",
    "# 부정 리뷰의 개수\n",
    "print(\"# num of 'neg' reviews: \", len(movie_reviews.fileids(categories='neg')))"
   ]
  },
  {
   "cell_type": "code",
   "execution_count": 3,
   "id": "8ae49bc2",
   "metadata": {},
   "outputs": [],
   "source": [
    "# 리뷰와 레이블 가져오기\n",
    "fileids = movie_reviews.fileids()\n",
    "\n",
    "reviews = [movie_reviews.raw(fileid) for fileid in fileids]\n",
    "categories = [movie_reviews.categories(fileid)[0] for fileid in fileids]"
   ]
  },
  {
   "cell_type": "code",
   "execution_count": 5,
   "id": "728e77b1",
   "metadata": {},
   "outputs": [
    {
     "name": "stdout",
     "output_type": "stream",
     "text": [
      "Collecting textblob\n",
      "  Downloading textblob-0.17.1-py2.py3-none-any.whl (636 kB)\n",
      "     -------------------------------------- 636.8/636.8 kB 6.7 MB/s eta 0:00:00\n",
      "Requirement already satisfied: nltk>=3.1 in c:\\users\\ing06\\anaconda3\\lib\\site-packages (from textblob) (3.7)\n",
      "Requirement already satisfied: joblib in c:\\users\\ing06\\anaconda3\\lib\\site-packages (from nltk>=3.1->textblob) (1.1.0)\n",
      "Requirement already satisfied: click in c:\\users\\ing06\\anaconda3\\lib\\site-packages (from nltk>=3.1->textblob) (8.0.4)\n",
      "Requirement already satisfied: tqdm in c:\\users\\ing06\\anaconda3\\lib\\site-packages (from nltk>=3.1->textblob) (4.63.0)\n",
      "Requirement already satisfied: regex>=2021.8.3 in c:\\users\\ing06\\anaconda3\\lib\\site-packages (from nltk>=3.1->textblob) (2022.3.15)\n",
      "Requirement already satisfied: colorama in c:\\users\\ing06\\appdata\\roaming\\python\\python39\\site-packages (from click->nltk>=3.1->textblob) (0.4.3)\n",
      "Installing collected packages: textblob\n",
      "Successfully installed textblob-0.17.1\n",
      "Finished.\n"
     ]
    },
    {
     "name": "stderr",
     "output_type": "stream",
     "text": [
      "[nltk_data] Downloading package brown to\n",
      "[nltk_data]     C:\\Users\\ing06\\AppData\\Roaming\\nltk_data...\n",
      "[nltk_data]   Unzipping corpora\\brown.zip.\n",
      "[nltk_data] Downloading package punkt to\n",
      "[nltk_data]     C:\\Users\\ing06\\AppData\\Roaming\\nltk_data...\n",
      "[nltk_data]   Package punkt is already up-to-date!\n",
      "[nltk_data] Downloading package wordnet to\n",
      "[nltk_data]     C:\\Users\\ing06\\AppData\\Roaming\\nltk_data...\n",
      "[nltk_data]   Package wordnet is already up-to-date!\n",
      "[nltk_data] Downloading package averaged_perceptron_tagger to\n",
      "[nltk_data]     C:\\Users\\ing06\\AppData\\Roaming\\nltk_data...\n",
      "[nltk_data]   Package averaged_perceptron_tagger is already up-to-\n",
      "[nltk_data]       date!\n",
      "[nltk_data] Downloading package conll2000 to\n",
      "[nltk_data]     C:\\Users\\ing06\\AppData\\Roaming\\nltk_data...\n",
      "[nltk_data]   Unzipping corpora\\conll2000.zip.\n",
      "[nltk_data] Downloading package movie_reviews to\n",
      "[nltk_data]     C:\\Users\\ing06\\AppData\\Roaming\\nltk_data...\n",
      "[nltk_data]   Package movie_reviews is already up-to-date!\n"
     ]
    }
   ],
   "source": [
    "!pip install -U textblob\n",
    "!python -m textblob.download_corpora"
   ]
  },
  {
   "cell_type": "code",
   "execution_count": 8,
   "id": "b7f8edf3",
   "metadata": {},
   "outputs": [
    {
     "name": "stdout",
     "output_type": "stream",
     "text": [
      "Sentiment(polarity=0.06479782948532947, subjectivity=0.5188408350908352)\n",
      "plot : two teen couples go to a church party , drink and then drive . \n",
      "they get into an accident . \n",
      "one of the guys dies , but his girlfriend continues to see him in her life , and has nightmares . \n",
      "what's the deal ? \n",
      "watch the movie and \" sorta \" find out . . . \n",
      "critique : a mind-fuck movie for the\n"
     ]
    }
   ],
   "source": [
    "# TextBlob을 이용한 감성 분석\n",
    "from textblob import TextBlob\n",
    "\n",
    "result = TextBlob(reviews[0])\n",
    "print(result.sentiment)   # 감성분석 결과 출력 (sentiment 속성)\n",
    "# polarity: 극성을 나타냄, -1.0 ~ 1.0\n",
    "# subjectivity: 주관성을 의미, 0.0(객관적) ~ 1.0(주관적)\n",
    "print(reviews[0][:300])"
   ]
  },
  {
   "cell_type": "code",
   "execution_count": 9,
   "id": "7ebdcefc",
   "metadata": {},
   "outputs": [],
   "source": [
    "# TextBlob 결과를 pos, neg로 변환\n",
    "def sentiment_TextBlob(docs):\n",
    "    results = []\n",
    "    \n",
    "    for doc in docs:\n",
    "        testimonial = TextBlob(doc)\n",
    "        if testimonial.sentiment.polarity > 0:   # 긍정\n",
    "            results.append('pos')\n",
    "        else:\n",
    "            results.append('neg')                # 부정\n",
    "            \n",
    "        \n",
    "    return results"
   ]
  },
  {
   "cell_type": "code",
   "execution_count": 10,
   "id": "110cba87",
   "metadata": {},
   "outputs": [
    {
     "name": "stdout",
     "output_type": "stream",
     "text": [
      "# TextBlob을 이용한 리뷰 감성분석의 정확도:  0.6\n"
     ]
    }
   ],
   "source": [
    "from sklearn.metrics import accuracy_score\n",
    "\n",
    "print(\"# TextBlob을 이용한 리뷰 감성분석의 정확도: \", accuracy_score(categories, sentiment_TextBlob(reviews)))\n",
    "# 생각보다 정확도가 낮다.."
   ]
  },
  {
   "cell_type": "code",
   "execution_count": 12,
   "id": "4c129936",
   "metadata": {},
   "outputs": [
    {
     "name": "stdout",
     "output_type": "stream",
     "text": [
      "Collecting afinn\n",
      "  Downloading afinn-0.1.tar.gz (52 kB)\n",
      "     ---------------------------------------- 52.6/52.6 kB 2.6 MB/s eta 0:00:00\n",
      "  Preparing metadata (setup.py): started\n",
      "  Preparing metadata (setup.py): finished with status 'done'\n",
      "Building wheels for collected packages: afinn\n",
      "  Building wheel for afinn (setup.py): started\n",
      "  Building wheel for afinn (setup.py): finished with status 'done'\n",
      "  Created wheel for afinn: filename=afinn-0.1-py3-none-any.whl size=53447 sha256=45a2d2caae0e8ad95c5afa30ae909ca44fb12d3243ade2eb072a5fbc80b139a4\n",
      "  Stored in directory: c:\\users\\ing06\\appdata\\local\\pip\\cache\\wheels\\79\\91\\ee\\8374d9bc8c6c0896a2db75afdfd63d43653902407a0e76cd94\n",
      "Successfully built afinn\n",
      "Installing collected packages: afinn\n",
      "Successfully installed afinn-0.1\n"
     ]
    }
   ],
   "source": [
    "!pip install afinn"
   ]
  },
  {
   "cell_type": "code",
   "execution_count": 15,
   "id": "f93700e6",
   "metadata": {},
   "outputs": [
    {
     "name": "stdout",
     "output_type": "stream",
     "text": [
      "# Afinn 이용한 리뷰 감성분석의 정확도:  0.664\n"
     ]
    }
   ],
   "source": [
    "# AFINN을 이용한 감성분석\n",
    "# -5 ~ 5사이의 극성을 가짐\n",
    "\n",
    "from afinn import Afinn\n",
    "\n",
    "def sentiment_Afinn(docs):\n",
    "    afinn = Afinn(emoticons=True)   # 텍스트에 이모티콘이 포함되어 있는 경우\n",
    "    results = []\n",
    "    \n",
    "    for doc in docs:\n",
    "        if afinn.score(doc) > 0:\n",
    "            results.append('pos')\n",
    "        else:\n",
    "            results.append('neg')\n",
    "            \n",
    "    return results\n",
    "\n",
    "print(\"# Afinn 이용한 리뷰 감성분석의 정확도: \", accuracy_score(categories, sentiment_Afinn(reviews)))"
   ]
  },
  {
   "cell_type": "code",
   "execution_count": 16,
   "id": "37f150f1",
   "metadata": {},
   "outputs": [
    {
     "name": "stderr",
     "output_type": "stream",
     "text": [
      "[nltk_data] Downloading package vader_lexicon to\n",
      "[nltk_data]     C:\\Users\\ing06\\AppData\\Roaming\\nltk_data...\n"
     ]
    },
    {
     "data": {
      "text/plain": [
       "True"
      ]
     },
     "execution_count": 16,
     "metadata": {},
     "output_type": "execute_result"
    }
   ],
   "source": [
    "# VADER를 이용한 감성 분석\n",
    "# 규칙기반 감성 분석 알고리즘 사용\n",
    "# SNS 텍스트에서 좋은 성능이 나올 수 있도록 개발됨\n",
    "\n",
    "import nltk\n",
    "nltk.download('vader_lexicon')"
   ]
  },
  {
   "cell_type": "code",
   "execution_count": 17,
   "id": "506497f4",
   "metadata": {},
   "outputs": [
    {
     "name": "stdout",
     "output_type": "stream",
     "text": [
      "# Vader을 이용한 리뷰 감성분석의 정확도: 0.635\n"
     ]
    }
   ],
   "source": [
    "# VADER의 SentimentIntensityAnalyzer\n",
    "# 4개의 극성값을 제공 'pos', 'neg', 'neu', 'compound'\n",
    "# compound: 세 값을 적절히 조합해 -1 ~ 1 사이의 극성값을 제공\n",
    "\n",
    "# compound 값이 0.05 이상 -> 긍정, -0.05이하 -> 부정, 그 외는 중립\n",
    "\n",
    "from nltk.sentiment.vader import SentimentIntensityAnalyzer\n",
    "\n",
    "def sentiment_vader(docs):\n",
    "    analyser = SentimentIntensityAnalyzer()\n",
    "    results = []\n",
    "\n",
    "    for doc in docs:\n",
    "        score = analyser.polarity_scores(doc)\n",
    "        if score['compound'] > 0:\n",
    "            results.append('pos')\n",
    "        else:\n",
    "            results.append('neg')\n",
    "\n",
    "    return results\n",
    "\n",
    "print('# Vader을 이용한 리뷰 감성분석의 정확도:', accuracy_score(categories, sentiment_vader(reviews)))"
   ]
  },
  {
   "cell_type": "code",
   "execution_count": null,
   "id": "046fe562",
   "metadata": {},
   "outputs": [],
   "source": []
  }
 ],
 "metadata": {
  "kernelspec": {
   "display_name": "Python 3 (ipykernel)",
   "language": "python",
   "name": "python3"
  },
  "language_info": {
   "codemirror_mode": {
    "name": "ipython",
    "version": 3
   },
   "file_extension": ".py",
   "mimetype": "text/x-python",
   "name": "python",
   "nbconvert_exporter": "python",
   "pygments_lexer": "ipython3",
   "version": "3.9.7"
  }
 },
 "nbformat": 4,
 "nbformat_minor": 5
}

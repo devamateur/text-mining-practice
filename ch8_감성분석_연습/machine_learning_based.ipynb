{
 "cells": [
  {
   "cell_type": "markdown",
   "id": "d28c6ab5",
   "metadata": {},
   "source": [
    "# 머신러닝 기반 감성 분석\n",
    "## 1. NLTK 영화 리뷰 데이터셋 - movie_reviews\n",
    "&nbsp; &nbsp; &nbsp;  1) train/test split <br/>\n",
    "&nbsp; &nbsp; &nbsp;  2) TF-IDF 벡터로 변환 <br/>\n",
    "&nbsp; &nbsp; &nbsp;  3) 나이브 베이즈 분류기 학습 <br/>\n",
    "&nbsp; &nbsp; &nbsp;  +) 로지스틱 회귀분석 <br/>"
   ]
  },
  {
   "cell_type": "code",
   "execution_count": 1,
   "id": "6b94128a",
   "metadata": {},
   "outputs": [
    {
     "name": "stderr",
     "output_type": "stream",
     "text": [
      "[nltk_data] Downloading package movie_reviews to\n",
      "[nltk_data]     C:\\Users\\ing06\\AppData\\Roaming\\nltk_data...\n",
      "[nltk_data]   Package movie_reviews is already up-to-date!\n"
     ]
    }
   ],
   "source": [
    "# movie_reviews 불러오기\n",
    "import nltk\n",
    "nltk.download('movie_reviews')\n",
    "\n",
    "from nltk.corpus import movie_reviews\n",
    "\n",
    "# id를 이용해 데이터 가져옴\n",
    "fileids = movie_reviews.fileids()\n",
    "\n",
    "reviews = [movie_reviews.raw(fileid) for fileid in fileids]\n",
    "categories = [movie_reviews.categories(fileid)[0] for fileid in fileids]"
   ]
  },
  {
   "cell_type": "code",
   "execution_count": 3,
   "id": "4ca1ee53",
   "metadata": {},
   "outputs": [
    {
     "name": "stdout",
     "output_type": "stream",
     "text": [
      "Train length:  1600\n",
      "Test length:  400\n"
     ]
    }
   ],
   "source": [
    "# train/test split\n",
    "from sklearn.model_selection import train_test_split\n",
    "\n",
    "X_train, X_test, y_train, y_test = train_test_split(reviews, categories, test_size=0.2, random_state=7)   # train_test_split(X, y, test_size, random_state)\n",
    "\n",
    "print('Train length: ', len(X_train))\n",
    "print('Test length: ', len(X_test))"
   ]
  },
  {
   "cell_type": "code",
   "execution_count": 6,
   "id": "94a86e01",
   "metadata": {},
   "outputs": [
    {
     "name": "stdout",
     "output_type": "stream",
     "text": [
      "# Train set dimension:  (1600, 36189)\n",
      "# Test set dimension:  (400, 36189)\n"
     ]
    }
   ],
   "source": [
    "# TF-IDF 벡터\n",
    "from sklearn.feature_extraction.text import TfidfVectorizer\n",
    "\n",
    "tfidf = TfidfVectorizer()\n",
    "X_train_tfidf = tfidf.fit_transform(X_train)\n",
    "X_test_tfidf = tfidf.transform(X_test)\n",
    "\n",
    "# shape 확인\n",
    "print('# Train set dimension: ', X_train_tfidf.shape)\n",
    "print('# Test set dimension: ', X_test_tfidf.shape)"
   ]
  },
  {
   "cell_type": "code",
   "execution_count": 7,
   "id": "d2fbe601",
   "metadata": {},
   "outputs": [
    {
     "name": "stdout",
     "output_type": "stream",
     "text": [
      "# Train score: 0.998\n",
      "# Test score: 0.797\n"
     ]
    }
   ],
   "source": [
    "# 나이브 베이즈 분류기\n",
    "from sklearn.naive_bayes import MultinomialNB\n",
    "\n",
    "NB = MultinomialNB(alpha=0.01)          \n",
    "NB.fit(X_train_tfidf, y_train)\n",
    "\n",
    "print('# Train score: {:.3f}'.format(NB.score(X_train_tfidf, y_train)))\n",
    "print('# Test score: {:.3f}'.format(NB.score(X_test_tfidf, y_test)))\n",
    "# 감성 사전을 이용한 어휘 기반 감성분석보다 성능이 뛰어남을 알 수 있음!"
   ]
  },
  {
   "cell_type": "code",
   "execution_count": 9,
   "id": "25658a0c",
   "metadata": {},
   "outputs": [
    {
     "name": "stdout",
     "output_type": "stream",
     "text": [
      "# Regression train score: 0.959\n",
      "# Regression test score: 0.845\n"
     ]
    }
   ],
   "source": [
    "# 로지스틱 회귀분석\n",
    "from sklearn.linear_model import LogisticRegression\n",
    "\n",
    "lr = LogisticRegression()\n",
    "lr.fit(X_train_tfidf, y_train)\n",
    "\n",
    "print('# Regression train score: {:.3f}'.format(lr.score(X_train_tfidf, y_train)))\n",
    "print('# Regression test score: {:.3f}'.format(lr.score(X_test_tfidf, y_test)))\n",
    "# 나이브 베이즈보다 성능이 뛰어남\n",
    "\n",
    "# predict\n",
    "y_pred = lr.predict(X_test_tfidf)"
   ]
  },
  {
   "cell_type": "markdown",
   "id": "c26a30a3",
   "metadata": {},
   "source": [
    "<br/>\n",
    "\n",
    "## 2. 다음 영화 리뷰 데이터셋\n",
    "&nbsp; &nbsp; &nbsp; 1) train/test split <br/>\n",
    "&nbsp; &nbsp; &nbsp; 2) konlpy의 Okt로 형태소 분석 - 명사, 동사, 형용사 추출 <br/>\n",
    "&nbsp; &nbsp; &nbsp; 3) TF-IDF 벡터로 변환 <br/>\n",
    "&nbsp; &nbsp; &nbsp; 4) 성능 지표 확인 - 정확도, 정밀도, 재현율, f1 score... <br/>\n",
    "&nbsp; &nbsp; &nbsp; 5) 회귀분석 - 선형회귀분석, 로지스틱 회귀분석 <br/> <br/>"
   ]
  },
  {
   "cell_type": "code",
   "execution_count": 27,
   "id": "f7bdbf78",
   "metadata": {},
   "outputs": [
    {
     "data": {
      "text/html": [
       "<div>\n",
       "<style scoped>\n",
       "    .dataframe tbody tr th:only-of-type {\n",
       "        vertical-align: middle;\n",
       "    }\n",
       "\n",
       "    .dataframe tbody tr th {\n",
       "        vertical-align: top;\n",
       "    }\n",
       "\n",
       "    .dataframe thead th {\n",
       "        text-align: right;\n",
       "    }\n",
       "</style>\n",
       "<table border=\"1\" class=\"dataframe\">\n",
       "  <thead>\n",
       "    <tr style=\"text-align: right;\">\n",
       "      <th></th>\n",
       "      <th>review</th>\n",
       "      <th>rating</th>\n",
       "      <th>date</th>\n",
       "      <th>title</th>\n",
       "    </tr>\n",
       "  </thead>\n",
       "  <tbody>\n",
       "    <tr>\n",
       "      <th>0</th>\n",
       "      <td>돈 들인건 티가 나지만 보는 내내 하품만</td>\n",
       "      <td>1</td>\n",
       "      <td>2018.10.29</td>\n",
       "      <td>인피니티 워</td>\n",
       "    </tr>\n",
       "    <tr>\n",
       "      <th>1</th>\n",
       "      <td>몰입할수밖에 없다. 어렵게 생각할 필요없다. 내가 전투에 참여한듯 손에 땀이남.</td>\n",
       "      <td>10</td>\n",
       "      <td>2018.10.26</td>\n",
       "      <td>인피니티 워</td>\n",
       "    </tr>\n",
       "    <tr>\n",
       "      <th>2</th>\n",
       "      <td>이전 작품에 비해 더 화려하고 스케일도 커졌지만.... 전국 맛집의 음식들을 한데 ...</td>\n",
       "      <td>8</td>\n",
       "      <td>2018.10.24</td>\n",
       "      <td>인피니티 워</td>\n",
       "    </tr>\n",
       "    <tr>\n",
       "      <th>3</th>\n",
       "      <td>이 정도면 볼만하다고 할 수 있음!</td>\n",
       "      <td>8</td>\n",
       "      <td>2018.10.22</td>\n",
       "      <td>인피니티 워</td>\n",
       "    </tr>\n",
       "    <tr>\n",
       "      <th>4</th>\n",
       "      <td>재미있다</td>\n",
       "      <td>10</td>\n",
       "      <td>2018.10.20</td>\n",
       "      <td>인피니티 워</td>\n",
       "    </tr>\n",
       "  </tbody>\n",
       "</table>\n",
       "</div>"
      ],
      "text/plain": [
       "                                              review  rating        date  \\\n",
       "0                             돈 들인건 티가 나지만 보는 내내 하품만       1  2018.10.29   \n",
       "1       몰입할수밖에 없다. 어렵게 생각할 필요없다. 내가 전투에 참여한듯 손에 땀이남.      10  2018.10.26   \n",
       "2  이전 작품에 비해 더 화려하고 스케일도 커졌지만.... 전국 맛집의 음식들을 한데 ...       8  2018.10.24   \n",
       "3                                이 정도면 볼만하다고 할 수 있음!       8  2018.10.22   \n",
       "4                                               재미있다      10  2018.10.20   \n",
       "\n",
       "    title  \n",
       "0  인피니티 워  \n",
       "1  인피니티 워  \n",
       "2  인피니티 워  \n",
       "3  인피니티 워  \n",
       "4  인피니티 워  "
      ]
     },
     "execution_count": 27,
     "metadata": {},
     "output_type": "execute_result"
    }
   ],
   "source": [
    "# 먼저 데이터 살펴보기\n",
    "import pandas as pd\n",
    "\n",
    "df = pd.read_csv('../data/daum_movie_review.csv')\n",
    "df.head(5)"
   ]
  },
  {
   "cell_type": "code",
   "execution_count": 33,
   "id": "e2107a31",
   "metadata": {},
   "outputs": [
    {
     "data": {
      "image/png": "[encoded data removed]",
      "text/plain": [
       "<Figure size 432x288 with 1 Axes>"
      ]
     },
     "metadata": {
      "needs_background": "light"
     },
     "output_type": "display_data"
    }
   ],
   "source": [
    "# rating 분포\n",
    "import matplotlib.pyplot as plt\n",
    "%matplotlib inline\n",
    "\n",
    "df['rating'].value_counts().sort_index().plot(kind='bar')  # 막대 그래프\n",
    "#df['rating'].plot.hist(bins=10)    # 히스토그램\n",
    "plt.show()\n",
    "\n",
    "# 평점의 분포가 고르지 않음 => 불균형 데이터셋, 성능이 잘 나오기 어렵고 예측이 어려움"
   ]
  },
  {
   "cell_type": "markdown",
   "id": "0e61984a",
   "metadata": {},
   "source": [
    "<br/><br/><br/>\n",
    "\n",
    "## 불균형 데이터 성능 지표\n",
    "**정밀도(Precision)**: 긍정으로 예측한 대상 중, 실제로 긍정인 데이터의 비율 **TP/TP+FP** <br/>\n",
    "**재현율(Recall)**: 실제 긍정인 데이터 중, 긍정으로 예측한 대상의 비율 **TP/TP+FN** <br/>\n",
    "<br/><br/>\n",
    "\n",
    "## 혼동행렬(Confusion Matrix)\n",
    "| | 긍정으로 예측한 리뷰(PP) | 부정으로 예측한 리뷰(PN) | |\n",
    "|---|---|---|---|\n",
    "|실제 긍정인 리뷰(P) | True positive(TP) | False negative(FN) | 재현율(Recall, Sensitivity) <br/>= TP/TP+FN|\n",
    "|실제 부정인 리뷰(N) | False positive(FP) | True negative(TN) | 특이도(Specificity) <br/>= TN/FP+TN|\n",
    "| | 정밀도(Precision) <br/>= TP/TP+FP | | 정확도(Accuracy) <br/>= TP+TN/TP+TN+FP+FN|\n",
    "\n",
    "<br/><br/>\n",
    "## 회귀분석\n",
    "방법 1) 평점이 0~10까지 연속된 값이므로 LinearRegression으로 학습 및 예측한 뒤, 긍정/부정 판별 <br/>\n",
    "방법 2) 평점을 긍정/부정으로 변환한 뒤, 이를 이용해 LogisticRegression"
   ]
  },
  {
   "cell_type": "code",
   "execution_count": 37,
   "id": "6f2d226f",
   "metadata": {},
   "outputs": [
    {
     "name": "stdout",
     "output_type": "stream",
     "text": [
      "# Train size:  11043\n",
      "# Test size:  3682\n"
     ]
    }
   ],
   "source": [
    "# 1. LinearRegression\n",
    "from sklearn.model_selection import train_test_split\n",
    "\n",
    "X_train, X_test, y_train, y_test = train_test_split(df['review'], df['rating'], random_state=7)\n",
    "print('# Train size: ', len(X_train))\n",
    "print('# Test size: ', len(X_test))\n",
    "\n",
    "# konlpy로 형태소 분석\n",
    "from konlpy.tag import Okt\n",
    "\n",
    "t = Okt()\n",
    "\n",
    "# 명사, 동사, 형용사 추출\n",
    "def twit_tokenizer(text):\n",
    "    target_tags = ['Noun', 'Verb', 'Adjective']\n",
    "    result = []\n",
    "    for word, tag in t.pos(text, norm=True, stem=True):\n",
    "        if tag in target_tags:\n",
    "            result.append(word)\n",
    "            \n",
    "    return result\n",
    "\n",
    "# tfidf 행렬 생성\n",
    "tfidf = TfidfVectorizer(tokenizer=twit_tokenizer, max_features=2000, min_df=5, max_df=0.5) #명사, 동사, 형용사를 이용하여 tfidf 생성\n",
    "X_train_tfidf = tfidf.fit_transform(X_train)\n",
    "X_test_tfidf = tfidf.transform(X_test)"
   ]
  },
  {
   "cell_type": "code",
   "execution_count": 38,
   "id": "984bbb58",
   "metadata": {},
   "outputs": [
    {
     "name": "stdout",
     "output_type": "stream",
     "text": [
      "#Regression Train set R2 score: 0.605\n",
      "#Regression Test set R2 score: 0.395\n"
     ]
    }
   ],
   "source": [
    "# LinearRegression\n",
    "\n",
    "from sklearn.linear_model import LinearRegression\n",
    "\n",
    "lr = LinearRegression()\n",
    "lr.fit(X_train_tfidf, y_train)\n",
    "print('#Regression Train set R2 score: {:.3f}'.format(lr.score(X_train_tfidf, y_train)))\n",
    "print('#Regression Test set R2 score: {:.3f}'.format(lr.score(X_test_tfidf, y_test)))"
   ]
  },
  {
   "cell_type": "code",
   "execution_count": 41,
   "id": "4a6d45b8",
   "metadata": {},
   "outputs": [
    {
     "name": "stdout",
     "output_type": "stream",
     "text": [
      "#Accuracy for train set: 0.888\n",
      "#Precision for train set: 0.893\n",
      "#Recall for train set: 0.969\n",
      "#F1 for train set: 0.929\n",
      "\n",
      "#Accuracy for test set: 0.848\n",
      "#Precision for test set: 0.868\n",
      "#Recall for test set: 0.946\n",
      "#F1 for test set: 0.905\n"
     ]
    }
   ],
   "source": [
    "# 정밀도, 재현율, f1-score로 성능 확인\n",
    "\n",
    "# 평점 5 이상이면 긍정, 그 외는 부정으로 변환\n",
    "y_train_senti = (y_train > 5)   # 5보다 크면 True, 작으면 False\n",
    "y_test_senti = (y_test > 5)\n",
    "\n",
    "# predict\n",
    "y_train_predict = (lr.predict(X_train_tfidf) > 5)\n",
    "y_test_predict = (lr.predict(X_test_tfidf) > 5)\n",
    "\n",
    "from sklearn.metrics import accuracy_score, precision_score, recall_score, f1_score\n",
    "\n",
    "# train 정확도, 정밀도, 재현율, f1-score\n",
    "print('#Accuracy for train set: {:.3f}'.format(accuracy_score(y_train_senti, y_train_predict)))\n",
    "print('#Precision for train set: {:.3f}'.format(precision_score(y_train_senti, y_train_predict)))\n",
    "print('#Recall for train set: {:.3f}'.format(recall_score(y_train_senti, y_train_predict)))\n",
    "print('#F1 for train set: {:.3f}'.format(f1_score(y_train_senti, y_train_predict)))\n",
    "print()\n",
    "\n",
    "# test 정확도, 정밀도, 재현율, f1-score\n",
    "print('#Accuracy for test set: {:.3f}'.format(accuracy_score(y_test_senti, y_test_predict)))\n",
    "print('#Precision for test set: {:.3f}'.format(precision_score(y_test_senti, y_test_predict)))\n",
    "print('#Recall for test set: {:.3f}'.format(recall_score(y_test_senti, y_test_predict)))\n",
    "print('#F1 for test set: {:.3f}'.format(f1_score(y_test_senti, y_test_predict)))"
   ]
  },
  {
   "cell_type": "code",
   "execution_count": 42,
   "id": "a9d20a80",
   "metadata": {},
   "outputs": [
    {
     "name": "stdout",
     "output_type": "stream",
     "text": [
      "#Accuracy for train set: 0.878\n",
      "#Precision for train set: 0.878\n",
      "#Recall for train set: 0.973\n",
      "#F1 for train set: 0.923\n",
      "\n",
      "#Accuracy for test set: 0.855\n",
      "#Precision for test set: 0.866\n",
      "#Recall for test set: 0.958\n",
      "#F1 for test set: 0.910\n"
     ]
    }
   ],
   "source": [
    "# 2. LogisticRegression\n",
    "from sklearn.linear_model import LogisticRegression \n",
    "\n",
    "#count vector에 대해 regression을 해서 NB와 비교\n",
    "LR_clf = LogisticRegression() \n",
    "LR_clf.fit(X_train_tfidf, y_train_senti)   # 변환한 극성값 이용\n",
    "\n",
    "y_train_predict = LR_clf.predict(X_train_tfidf)\n",
    "y_test_predict = LR_clf.predict(X_test_tfidf)\n",
    "\n",
    "print('#Accuracy for train set: {:.3f}'.format(accuracy_score(y_train_senti, y_train_predict)))\n",
    "print('#Precision for train set: {:.3f}'.format(precision_score(y_train_senti, y_train_predict)))\n",
    "print('#Recall for train set: {:.3f}'.format(recall_score(y_train_senti, y_train_predict)))\n",
    "print('#F1 for train set: {:.3f}'.format(f1_score(y_train_senti, y_train_predict)))\n",
    "print()\n",
    "\n",
    "print('#Accuracy for test set: {:.3f}'.format(accuracy_score(y_test_senti, y_test_predict)))\n",
    "print('#Precision for test set: {:.3f}'.format(precision_score(y_test_senti, y_test_predict)))\n",
    "print('#Recall for test set: {:.3f}'.format(recall_score(y_test_senti, y_test_predict)))\n",
    "print('#F1 for test set: {:.3f}'.format(f1_score(y_test_senti, y_test_predict)))"
   ]
  },
  {
   "cell_type": "code",
   "execution_count": null,
   "id": "f19e8d3a",
   "metadata": {},
   "outputs": [],
   "source": []
  }
 ],
 "metadata": {
  "kernelspec": {
   "display_name": "Python 3 (ipykernel)",
   "language": "python",
   "name": "python3"
  },
  "language_info": {
   "codemirror_mode": {
    "name": "ipython",
    "version": 3
   },
   "file_extension": ".py",
   "mimetype": "text/x-python",
   "name": "python",
   "nbconvert_exporter": "python",
   "pygments_lexer": "ipython3",
   "version": "3.9.7"
  }
 },
 "nbformat": 4,
 "nbformat_minor": 5
}

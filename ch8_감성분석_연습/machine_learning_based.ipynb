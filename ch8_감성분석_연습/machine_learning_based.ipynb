{
 "cells": [
  {
   "cell_type": "markdown",
   "id": "817578ae",
   "metadata": {},
   "source": [
    "# 머신러닝 기반 감성 분석\n",
    "## 1. NLTK 영화 리뷰 데이터셋 - movie_reviews\n",
    "&nbsp; &nbsp; &nbsp;  1) train/test split <br/>\n",
    "&nbsp; &nbsp; &nbsp;  2) TF-IDF 벡터로 변환 <br/>\n",
    "&nbsp; &nbsp; &nbsp;  3) 나이브 베이즈 분류기 학습 <br/>\n",
    "&nbsp; &nbsp; &nbsp;  +) 로지스틱 회귀분석 <br/>"
   ]
  },
  {
   "cell_type": "code",
   "execution_count": 1,
   "id": "fae4cd2b",
   "metadata": {},
   "outputs": [
    {
     "name": "stderr",
     "output_type": "stream",
     "text": [
      "[nltk_data] Downloading package movie_reviews to\n",
      "[nltk_data]     C:\\Users\\ing06\\AppData\\Roaming\\nltk_data...\n",
      "[nltk_data]   Package movie_reviews is already up-to-date!\n"
     ]
    }
   ],
   "source": [
    "# movie_reviews 불러오기\n",
    "import nltk\n",
    "nltk.download('movie_reviews')\n",
    "\n",
    "from nltk.corpus import movie_reviews\n",
    "\n",
    "# id를 이용해 데이터 가져옴\n",
    "fileids = movie_reviews.fileids()\n",
    "\n",
    "reviews = [movie_reviews.raw(fileid) for fileid in fileids]\n",
    "categories = [movie_reviews.categories(fileid)[0] for fileid in fileids]"
   ]
  },
  {
   "cell_type": "code",
   "execution_count": 3,
   "id": "89e8f21e",
   "metadata": {},
   "outputs": [
    {
     "name": "stdout",
     "output_type": "stream",
     "text": [
      "Train length:  1600\n",
      "Test length:  400\n"
     ]
    }
   ],
   "source": [
    "# train/test split\n",
    "from sklearn.model_selection import train_test_split\n",
    "\n",
    "X_train, X_test, y_train, y_test = train_test_split(reviews, categories, test_size=0.2, random_state=7)   # train_test_split(X, y, test_size, random_state)\n",
    "\n",
    "print('Train length: ', len(X_train))\n",
    "print('Test length: ', len(X_test))"
   ]
  },
  {
   "cell_type": "code",
   "execution_count": 6,
   "id": "e4ab3b59",
   "metadata": {},
   "outputs": [
    {
     "name": "stdout",
     "output_type": "stream",
     "text": [
      "# Train set dimension:  (1600, 36189)\n",
      "# Test set dimension:  (400, 36189)\n"
     ]
    }
   ],
   "source": [
    "# TF-IDF 벡터\n",
    "from sklearn.feature_extraction.text import TfidfVectorizer\n",
    "\n",
    "tfidf = TfidfVectorizer()\n",
    "X_train_tfidf = tfidf.fit_transform(X_train)\n",
    "X_test_tfidf = tfidf.transform(X_test)\n",
    "\n",
    "# shape 확인\n",
    "print('# Train set dimension: ', X_train_tfidf.shape)\n",
    "print('# Test set dimension: ', X_test_tfidf.shape)"
   ]
  },
  {
   "cell_type": "code",
   "execution_count": 7,
   "id": "3dd2e378",
   "metadata": {},
   "outputs": [
    {
     "name": "stdout",
     "output_type": "stream",
     "text": [
      "# Train score: 0.998\n",
      "# Test score: 0.797\n"
     ]
    }
   ],
   "source": [
    "# 나이브 베이즈 분류기\n",
    "from sklearn.naive_bayes import MultinomialNB\n",
    "\n",
    "NB = MultinomialNB(alpha=0.01)          \n",
    "NB.fit(X_train_tfidf, y_train)\n",
    "\n",
    "print('# Train score: {:.3f}'.format(NB.score(X_train_tfidf, y_train)))\n",
    "print('# Test score: {:.3f}'.format(NB.score(X_test_tfidf, y_test)))\n",
    "# 감성 사전을 이용한 어휘 기반 감성분석보다 성능이 뛰어남을 알 수 있음!"
   ]
  },
  {
   "cell_type": "code",
   "execution_count": 9,
   "id": "7d0536de",
   "metadata": {},
   "outputs": [
    {
     "name": "stdout",
     "output_type": "stream",
     "text": [
      "# Regression train score: 0.959\n",
      "# Regression test score: 0.845\n"
     ]
    }
   ],
   "source": [
    "# 로지스틱 회귀분석\n",
    "from sklearn.linear_model import LogisticRegression\n",
    "\n",
    "lr = LogisticRegression()\n",
    "lr.fit(X_train_tfidf, y_train)\n",
    "\n",
    "print('# Regression train score: {:.3f}'.format(lr.score(X_train_tfidf, y_train)))\n",
    "print('# Regression test score: {:.3f}'.format(lr.score(X_test_tfidf, y_test)))\n",
    "# 나이브 베이즈보다 성능이 뛰어남\n",
    "\n",
    "# predict\n",
    "y_pred = lr.predict(X_test_tfidf)"
   ]
  },
  {
   "cell_type": "code",
   "execution_count": null,
   "id": "e0a1920c",
   "metadata": {},
   "outputs": [],
   "source": []
  }
 ],
 "metadata": {
  "kernelspec": {
   "display_name": "Python 3 (ipykernel)",
   "language": "python",
   "name": "python3"
  },
  "language_info": {
   "codemirror_mode": {
    "name": "ipython",
    "version": 3
   },
   "file_extension": ".py",
   "mimetype": "text/x-python",
   "name": "python",
   "nbconvert_exporter": "python",
   "pygments_lexer": "ipython3",
   "version": "3.9.7"
  }
 },
 "nbformat": 4,
 "nbformat_minor": 5
}

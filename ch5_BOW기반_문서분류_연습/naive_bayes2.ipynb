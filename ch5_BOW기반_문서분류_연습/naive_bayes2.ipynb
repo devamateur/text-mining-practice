{
 "cells": [
  {
   "cell_type": "markdown",
   "id": "f977840d",
   "metadata": {},
   "source": [
    "# 나이브 베이즈 분류기를 이용한 문서 분류2\n",
    "## - CountVectorizer 대신 TfidfVectorizer로 특성 추출"
   ]
  },
  {
   "cell_type": "code",
   "execution_count": 1,
   "id": "92635a31",
   "metadata": {},
   "outputs": [
    {
     "name": "stdout",
     "output_type": "stream",
     "text": [
      "Train size:  2034\n",
      "Test size:  1353\n",
      "Category:  ['alt.atheism', 'comp.graphics', 'sci.space', 'talk.religion.misc']\n",
      "Category value:  {0, 1, 2, 3}\n"
     ]
    }
   ],
   "source": [
    "from sklearn.datasets import fetch_20newsgroups\n",
    "\n",
    "# 무교, 종교, 그래픽, 우주 카테고리에 해당하는 포스트 가져옴\n",
    "categories = ['alt.atheism', 'talk.religion.misc', 'comp.graphics', 'sci.space']\n",
    "\n",
    "news_train = fetch_20newsgroups(subset='train', remove=('headers', 'footers', 'quotes'), categories=categories)\n",
    "news_test = fetch_20newsgroups(subset='test', remove=('headers', 'footers', 'quotes'), categories=categories)\n",
    "\n",
    "print(\"Train size: \", len(news_train.data))\n",
    "print(\"Test size: \", len(news_test.data))\n",
    "print(\"Category: \", news_train.target_names)\n",
    "print(\"Category value: \", set(news_train.target))"
   ]
  },
  {
   "cell_type": "code",
   "execution_count": 2,
   "id": "017079eb",
   "metadata": {},
   "outputs": [],
   "source": [
    "# train/test split\n",
    "X_train = news_train.data\n",
    "y_train = news_train.target\n",
    "\n",
    "X_test = news_test.data\n",
    "y_test = news_test.target"
   ]
  },
  {
   "cell_type": "code",
   "execution_count": 4,
   "id": "fce5e34c",
   "metadata": {},
   "outputs": [
    {
     "name": "stdout",
     "output_type": "stream",
     "text": [
      "Train Accuracy: 0.862\n",
      "Test Accuracy: 0.741\n"
     ]
    }
   ],
   "source": [
    "from sklearn.feature_extraction.text import TfidfVectorizer\n",
    "\n",
    "tfidf = TfidfVectorizer(max_features=2000, min_df=5, max_df=0.5)\n",
    "\n",
    "X_train_tfidf = tfidf.fit_transform(X_train)\n",
    "X_test_tfidf = tfidf.transform(X_test)\n",
    "\n",
    "from sklearn.naive_bayes import MultinomialNB\n",
    "\n",
    "NB = MultinomialNB()\n",
    "\n",
    "NB.fit(X_train_tfidf, y_train)\n",
    "\n",
    "print(\"Train Accuracy: {:.3f}\".format(NB.score(X_train_tfidf, y_train)))  # {:.3f} -> format을 이용해 소수 셋째자리까지 나타냄\n",
    "print(\"Test Accuracy: {:.3f}\".format(NB.score(X_test_tfidf, y_test)))"
   ]
  },
  {
   "cell_type": "code",
   "execution_count": 7,
   "id": "66332e35",
   "metadata": {},
   "outputs": [
    {
     "name": "stdout",
     "output_type": "stream",
     "text": [
      "alt.atheism: you, not, are, be, this, have, as, what, they, if\n",
      "comp.graphics: you, on, graphics, this, have, any, can, or, with, thanks\n",
      "sci.space: space, on, you, be, was, this, as, they, have, are\n",
      "talk.religion.misc: you, not, he, are, as, this, be, god, was, they\n"
     ]
    },
    {
     "name": "stderr",
     "output_type": "stream",
     "text": [
      "C:\\Users\\ing06\\anaconda3\\lib\\site-packages\\sklearn\\utils\\deprecation.py:103: FutureWarning: Attribute `coef_` was deprecated in version 0.24 and will be removed in 1.1 (renaming of 0.26).\n",
      "  warnings.warn(msg, category=FutureWarning)\n"
     ]
    }
   ],
   "source": [
    "# 카테고리별로 영향이 큰 특성(단어) 10개 추출\n",
    "\n",
    "import numpy as np\n",
    "\n",
    "def top10_features(classifier, vectorizer, categories):\n",
    "    feature_names = np.asarray(vectorizer.get_feature_names_out())\n",
    "    \n",
    "    for i, category in enumerate(categories):\n",
    "        # 계수에 음수를 취해 내림차순으로 정렬\n",
    "        top10 = np.argsort(-classifier.coef_[i])[:10]\n",
    "        print(\"%s: %s\" % (category, \", \".join(feature_names[top10])))\n",
    "        \n",
    "top10_features(NB, tfidf, news_train.target_names)"
   ]
  },
  {
   "cell_type": "code",
   "execution_count": null,
   "id": "c543fefa",
   "metadata": {},
   "outputs": [],
   "source": []
  }
 ],
 "metadata": {
  "kernelspec": {
   "display_name": "Python 3 (ipykernel)",
   "language": "python",
   "name": "python3"
  },
  "language_info": {
   "codemirror_mode": {
    "name": "ipython",
    "version": 3
   },
   "file_extension": ".py",
   "mimetype": "text/x-python",
   "name": "python",
   "nbconvert_exporter": "python",
   "pygments_lexer": "ipython3",
   "version": "3.9.7"
  }
 },
 "nbformat": 4,
 "nbformat_minor": 5
}

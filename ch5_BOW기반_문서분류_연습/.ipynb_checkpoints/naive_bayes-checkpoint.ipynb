{
 "cells": [
  {
   "cell_type": "markdown",
   "id": "923463db",
   "metadata": {},
   "source": [
    "# 나이브 베이즈 분류기를 이용한 문서 분류\n",
    "\n",
    "## - 20 뉴스그룹 데이터셋(20 newsgroups)\n",
    "- 뉴스 포스트 <br/>\n",
    "- label: 포스트의 카테고리"
   ]
  },
  {
   "cell_type": "code",
   "execution_count": 10,
   "id": "57af4f0b",
   "metadata": {},
   "outputs": [
    {
     "name": "stdout",
     "output_type": "stream",
     "text": [
      "Train size:  2034\n",
      "Test size:  1353\n",
      "Category:  ['alt.atheism', 'comp.graphics', 'sci.space', 'talk.religion.misc']\n",
      "Category value:  {0, 1, 2, 3}\n"
     ]
    }
   ],
   "source": [
    "from sklearn.datasets import fetch_20newsgroups\n",
    "\n",
    "# 무교, 종교, 그래픽, 우주 카테고리에 해당하는 포스트 가져옴\n",
    "categories = ['alt.atheism', 'talk.religion.misc', 'comp.graphics', 'sci.space']\n",
    "\n",
    "news_train = fetch_20newsgroups(subset='train', remove=('headers', 'footers', 'quotes'), categories=categories)\n",
    "news_test = fetch_20newsgroups(subset='test', remove=('headers', 'footers', 'quotes'), categories=categories)\n",
    "\n",
    "print(\"Train size: \", len(news_train.data))\n",
    "print(\"Test size: \", len(news_test.data))\n",
    "print(\"Category: \", news_train.target_names)\n",
    "print(\"Category value: \", set(news_train.target))"
   ]
  },
  {
   "cell_type": "code",
   "execution_count": 11,
   "id": "2aff1542",
   "metadata": {},
   "outputs": [
    {
     "name": "stdout",
     "output_type": "stream",
     "text": [
      "Train text sample:  Hi,\n",
      "\n",
      "I've noticed that if you only save a model (with all your mapping planes\n",
      "positioned carefully) to a .3DS file that when you reload it after restarting\n",
      "3DS, they are given a default position and orientation.  But if you save\n",
      "to a .PRJ file their positions/orientation are preserved.  Does anyone\n",
      "know why this information is not stored in the .3DS file?  Nothing is\n",
      "explicitly said in the manual about saving texture rules in the .PRJ file. \n",
      "I'd like to be able to read the texture rule information, does anyone have \n",
      "the format for the .PRJ file?\n",
      "\n",
      "Is the .CEL file format available from somewhere?\n",
      "\n",
      "Rych\n",
      "Train label sample:  1\n"
     ]
    }
   ],
   "source": [
    "# 샘플 출력\n",
    "print(\"Train text sample: \", news_train.data[0])\n",
    "print(\"Train label sample: \", news_train.target[0])   # 카테고리"
   ]
  },
  {
   "cell_type": "code",
   "execution_count": 12,
   "id": "c23f95f7",
   "metadata": {},
   "outputs": [],
   "source": [
    "# train/test split\n",
    "X_train = news_train.data\n",
    "y_train = news_train.target\n",
    "\n",
    "X_test = news_test.data\n",
    "y_test = news_test.target"
   ]
  },
  {
   "cell_type": "code",
   "execution_count": 18,
   "id": "87845c9c",
   "metadata": {},
   "outputs": [
    {
     "name": "stdout",
     "output_type": "stream",
     "text": [
      "Train:  (2034, 2000)\n",
      "Test:  (1353, 2000)\n"
     ]
    }
   ],
   "source": [
    "# CountVectorizer로 특성 추출\n",
    "from sklearn.feature_extraction.text import CountVectorizer\n",
    "\n",
    "# min_df: 특정 단어가 최소 min_df개 문서에 나타남을 의미, 여기서는 5개 이상의 문서에 나타난 단어 추출\n",
    "# max_df: 많은 문서에 나타나는 단어 제외, 여기서는 문서의 50% 이상 나타나는 단어 제외\n",
    "cv = CountVectorizer(max_features=2000, min_df=5, max_df=0.5)\n",
    "\n",
    "# fit은 훈련 데이터로만\n",
    "X_train_cv = cv.fit_transform(X_train)\n",
    "X_test_cv = cv.transform(X_test)\n",
    "\n",
    "print(\"Train: \", X_train_cv.shape)\n",
    "print(\"Test: \", X_test_cv.shape)"
   ]
  },
  {
   "cell_type": "code",
   "execution_count": 20,
   "id": "d52454fc",
   "metadata": {},
   "outputs": [
    {
     "name": "stdout",
     "output_type": "stream",
     "text": [
      "Train Accuracy: 0.824\n",
      "Test Accuracy: 0.732\n"
     ]
    }
   ],
   "source": [
    "# 나이브 베이즈 분류기\n",
    "from sklearn.naive_bayes import MultinomialNB\n",
    "\n",
    "NB = MultinomialNB()\n",
    "\n",
    "NB.fit(X_train_cv, y_train)\n",
    "\n",
    "print(\"Train Accuracy: {:.3f}\".format(NB.score(X_train_cv, y_train)))  # {:.3f} -> format을 이용해 소수 셋째자리까지 나타냄\n",
    "print(\"Test Accuracy: {:.3f}\".format(NB.score(X_test_cv, y_test)))"
   ]
  },
  {
   "cell_type": "code",
   "execution_count": 28,
   "id": "8796ebec",
   "metadata": {},
   "outputs": [
    {
     "name": "stdout",
     "output_type": "stream",
     "text": [
      "## 문서 내용:  TRry the SKywatch project in  Arizona.\n",
      "카테고리:  2\n",
      "\n",
      "예측 카테고리:  2\n",
      "\n",
      "\n",
      "## 문서 내용:  The Vatican library recently made a tour of the US.\n",
      " Can anyone help me in finding a FTP site where this collection is \n",
      " available.\n",
      "카테고리:  1\n",
      "\n",
      "예측 카테고리:  1\n",
      "\n",
      "\n",
      "## 문서 내용:  Hi there,\n",
      "\n",
      "I am here looking for some help.\n",
      "\n",
      "My friend is a interior decor designer. He is from Thailand. He is\n",
      "trying to find some graphics software on PC. Any suggestion on which\n",
      "software to buy,where to buy and how much it costs ? He likes the most\n",
      "sophisticated \n",
      "software(the more features it has,the better)\n",
      "카테고리:  1\n",
      "\n",
      "예측 카테고리:  1\n",
      "\n",
      "\n"
     ]
    }
   ],
   "source": [
    "# predict\n",
    "pred = NB.predict(X_test_cv[:3])\n",
    "\n",
    "for i in range(3):\n",
    "    print(\"## 문서 내용: \", X_test[i])\n",
    "    print(\"카테고리: \", y_test[i])\n",
    "    print()\n",
    "    print(\"예측 카테고리: \", pred[i])\n",
    "    print(\"\\n\")"
   ]
  },
  {
   "cell_type": "code",
   "execution_count": 90,
   "id": "a829207b",
   "metadata": {},
   "outputs": [
    {
     "data": {
      "image/png": "[encoded data removed]",
      "text/plain": [
       "<Figure size 720x504 with 1 Axes>"
      ]
     },
     "metadata": {},
     "output_type": "display_data"
    }
   ],
   "source": [
    "# 시각화\n",
    "import seaborn as sns\n",
    "\n",
    "from matplotlib import font_manager, rc\n",
    "\n",
    "font_name = font_manager.FontProperties(fname=\"c:/Windows/Fonts/malgun.ttf\").get_name()\n",
    "rc('font', family=font_name)\n",
    "\n",
    "pred =  NB.predict(X_test_cv)\n",
    "\n",
    "import pandas as pd\n",
    "df = pd.DataFrame({\"y_test\":y_test, \"pred\":pred})\n",
    "\n",
    "plt.figure(figsize=(10, 7))\n",
    "g = sns.countplot(x = \"y_test\", hue = \"pred\" , data = df)\n",
    "g.set_title('카테고리별 예측값 분포 확인')\n",
    "sns.set(font_scale=1.5)\n",
    "# 전반적으로 카테고리를 잘 예측하는 것을 볼 수 있음"
   ]
  },
  {
   "cell_type": "code",
   "execution_count": null,
   "id": "b940573c",
   "metadata": {},
   "outputs": [],
   "source": []
  }
 ],
 "metadata": {
  "kernelspec": {
   "display_name": "Python 3 (ipykernel)",
   "language": "python",
   "name": "python3"
  },
  "language_info": {
   "codemirror_mode": {
    "name": "ipython",
    "version": 3
   },
   "file_extension": ".py",
   "mimetype": "text/x-python",
   "name": "python",
   "nbconvert_exporter": "python",
   "pygments_lexer": "ipython3",
   "version": "3.9.7"
  }
 },
 "nbformat": 4,
 "nbformat_minor": 5
}

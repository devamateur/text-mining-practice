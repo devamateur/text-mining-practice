{
 "cells": [
  {
   "cell_type": "markdown",
   "id": "0df518fc",
   "metadata": {},
   "source": [
    "# 다음 영화 리뷰 댓글로 영화 제목 예측하기\n",
    "<hr>"
   ]
  },
  {
   "cell_type": "code",
   "execution_count": 1,
   "id": "1157a566",
   "metadata": {},
   "outputs": [
    {
     "data": {
      "text/html": [
       "<div>\n",
       "<style scoped>\n",
       "    .dataframe tbody tr th:only-of-type {\n",
       "        vertical-align: middle;\n",
       "    }\n",
       "\n",
       "    .dataframe tbody tr th {\n",
       "        vertical-align: top;\n",
       "    }\n",
       "\n",
       "    .dataframe thead th {\n",
       "        text-align: right;\n",
       "    }\n",
       "</style>\n",
       "<table border=\"1\" class=\"dataframe\">\n",
       "  <thead>\n",
       "    <tr style=\"text-align: right;\">\n",
       "      <th></th>\n",
       "      <th>review</th>\n",
       "      <th>rating</th>\n",
       "      <th>date</th>\n",
       "      <th>title</th>\n",
       "    </tr>\n",
       "  </thead>\n",
       "  <tbody>\n",
       "    <tr>\n",
       "      <th>0</th>\n",
       "      <td>돈 들인건 티가 나지만 보는 내내 하품만</td>\n",
       "      <td>1</td>\n",
       "      <td>2018.10.29</td>\n",
       "      <td>인피니티 워</td>\n",
       "    </tr>\n",
       "    <tr>\n",
       "      <th>1</th>\n",
       "      <td>몰입할수밖에 없다. 어렵게 생각할 필요없다. 내가 전투에 참여한듯 손에 땀이남.</td>\n",
       "      <td>10</td>\n",
       "      <td>2018.10.26</td>\n",
       "      <td>인피니티 워</td>\n",
       "    </tr>\n",
       "    <tr>\n",
       "      <th>2</th>\n",
       "      <td>이전 작품에 비해 더 화려하고 스케일도 커졌지만.... 전국 맛집의 음식들을 한데 ...</td>\n",
       "      <td>8</td>\n",
       "      <td>2018.10.24</td>\n",
       "      <td>인피니티 워</td>\n",
       "    </tr>\n",
       "    <tr>\n",
       "      <th>3</th>\n",
       "      <td>이 정도면 볼만하다고 할 수 있음!</td>\n",
       "      <td>8</td>\n",
       "      <td>2018.10.22</td>\n",
       "      <td>인피니티 워</td>\n",
       "    </tr>\n",
       "    <tr>\n",
       "      <th>4</th>\n",
       "      <td>재미있다</td>\n",
       "      <td>10</td>\n",
       "      <td>2018.10.20</td>\n",
       "      <td>인피니티 워</td>\n",
       "    </tr>\n",
       "  </tbody>\n",
       "</table>\n",
       "</div>"
      ],
      "text/plain": [
       "                                              review  rating        date  \\\n",
       "0                             돈 들인건 티가 나지만 보는 내내 하품만       1  2018.10.29   \n",
       "1       몰입할수밖에 없다. 어렵게 생각할 필요없다. 내가 전투에 참여한듯 손에 땀이남.      10  2018.10.26   \n",
       "2  이전 작품에 비해 더 화려하고 스케일도 커졌지만.... 전국 맛집의 음식들을 한데 ...       8  2018.10.24   \n",
       "3                                이 정도면 볼만하다고 할 수 있음!       8  2018.10.22   \n",
       "4                                               재미있다      10  2018.10.20   \n",
       "\n",
       "    title  \n",
       "0  인피니티 워  \n",
       "1  인피니티 워  \n",
       "2  인피니티 워  \n",
       "3  인피니티 워  \n",
       "4  인피니티 워  "
      ]
     },
     "execution_count": 1,
     "metadata": {},
     "output_type": "execute_result"
    }
   ],
   "source": [
    "# 데이터 불러오기\n",
    "import pandas as pd\n",
    "\n",
    "df = pd.read_csv('../data/daum_movie_review.csv')\n",
    "df.head(5)"
   ]
  },
  {
   "cell_type": "code",
   "execution_count": 2,
   "id": "75e44b1f",
   "metadata": {},
   "outputs": [
    {
     "name": "stdout",
     "output_type": "stream",
     "text": [
      "14725\n"
     ]
    }
   ],
   "source": [
    "print(len(df))"
   ]
  },
  {
   "cell_type": "code",
   "execution_count": 3,
   "id": "ee1f42fa",
   "metadata": {},
   "outputs": [
    {
     "data": {
      "text/plain": [
       "신과함께      4947\n",
       "택시운전사     2322\n",
       "인피니티 워    2042\n",
       "범죄도시      1939\n",
       "곤지암       1547\n",
       "라라랜드      1150\n",
       "코코         778\n",
       "Name: title, dtype: int64"
      ]
     },
     "execution_count": 3,
     "metadata": {},
     "output_type": "execute_result"
    }
   ],
   "source": [
    "df['title'].value_counts()\n",
    "# '신과함께'와 '코코'의 개수 차이가 많이 남 -> 불균형 데이터셋(Imbalanced dataset)"
   ]
  },
  {
   "cell_type": "code",
   "execution_count": 6,
   "id": "28ba3792",
   "metadata": {},
   "outputs": [
    {
     "name": "stdout",
     "output_type": "stream",
     "text": [
      "Train size:  11043\n",
      "Test size:  3682\n"
     ]
    }
   ],
   "source": [
    "# train/test split\n",
    "from sklearn.model_selection import train_test_split\n",
    "\n",
    "# 비율 지정하지 않으면 train:test = 75:25로 분할\n",
    "X_train, X_test, y_train, y_test = train_test_split(df['review'], df['title'], random_state=0)\n",
    "\n",
    "print(\"Train size: \", len(X_train))\n",
    "print(\"Test size: \", len(X_test))"
   ]
  },
  {
   "cell_type": "code",
   "execution_count": 8,
   "id": "38fd768f",
   "metadata": {},
   "outputs": [
    {
     "name": "stdout",
     "output_type": "stream",
     "text": [
      "['이전', '작품', '에', '비해', '더', '화려하고', '스케일', '도', '커졌지만', '....', '전국', '맛집', '의', '음식', '들', '을', '한데', '모은', '것', '까지는', '좋았으나', '이', '걸', '모두', '한', '그릇', '에', '섞어', '버린', '듯', '한', '느낌', '...', '그래도', '다음', '작품', '을', '기대하게', '만든다', '...']\n",
      "['이전', '작품', '더', '스케일', '전국', '맛집', '음식', '것', '걸', '모두', '그릇', '듯', '느낌', '다음', '작품']\n"
     ]
    }
   ],
   "source": [
    "# 형태소 분석\n",
    "from konlpy.tag import Okt\n",
    "t = Okt()\n",
    "\n",
    "print(t.morphs(X_train[2]))   # 형태소\n",
    "print(t.nouns(X_train[2]))    # 명사"
   ]
  },
  {
   "cell_type": "code",
   "execution_count": 11,
   "id": "831e4011",
   "metadata": {},
   "outputs": [],
   "source": [
    "# tfidf로 특성 추출\n",
    "from sklearn.feature_extraction.text import TfidfVectorizer\n",
    "\n",
    "# t.nouns를 토크나이저로 지정\n",
    "tfidf = TfidfVectorizer(tokenizer=t.nouns, max_features=2000, min_df=5, max_df=0.5)\n",
    "X_train_tfidf = tfidf.fit_transform(X_train)\n",
    "X_test_tfidf = tfidf.transform(X_test)"
   ]
  },
  {
   "cell_type": "code",
   "execution_count": 12,
   "id": "2d3018d4",
   "metadata": {},
   "outputs": [
    {
     "name": "stdout",
     "output_type": "stream",
     "text": [
      "Train score: 0.756\n",
      "Test score: 0.694\n"
     ]
    }
   ],
   "source": [
    "# 로지스틱 회귀분석\n",
    "from sklearn.linear_model import LogisticRegression\n",
    "\n",
    "lr = LogisticRegression(max_iter=1000)  \n",
    "\n",
    "lr.fit(X_train_tfidf, y_train)\n",
    "\n",
    "print(\"Train score: {:.3f}\".format(lr.score(X_train_tfidf, y_train)))\n",
    "print(\"Test score: {:.3f}\".format(lr.score(X_test_tfidf, y_test)))"
   ]
  },
  {
   "cell_type": "code",
   "execution_count": 17,
   "id": "24c04b7d",
   "metadata": {},
   "outputs": [
    {
     "name": "stdout",
     "output_type": "stream",
     "text": [
      "실제 영화 제목 | 예측한 제목 | 리뷰\n",
      "0.65\n",
      "('범죄도시', '신과함께', '오랜만에 잼나는 영화 봤습니다.  다음에 더 재미있는 영화 기대하겠습니다.')\n",
      "\n",
      "('범죄도시', '범죄도시', '조연들이 눈에 박힌다. 간만에 집중 ㅎ')\n",
      "\n",
      "('코코', '코코', '대감동을 선사. 인사이드 아웃을 잇는 픽사의 감동스토리. 신과함께의 멕시코판이라고나할까요??')\n",
      "\n",
      "('신과함께', '신과함께', '돈이 안아까웠던 영화ᆞᆞ  정말 좋았다')\n",
      "\n",
      "('신과함께', '신과함께', '역시 김용화감독이 영화는 잘 만들어요. 이제 VFX 제작 부문도 헐리우드 수준 이상입니다.')\n",
      "\n",
      "('택시운전사', '택시운전사', '민주화를 위해 힘써주신 분들께 감사하는 마음으로 살아야겠다.')\n",
      "\n",
      "('신과함께', '신과함께', '잠만 자다 왔음')\n",
      "\n",
      "('신과함께', '신과함께', '오랜만에 잼있고 좋은 영화를 봤다')\n",
      "\n",
      "('범죄도시', '신과함께', '잼남')\n",
      "\n",
      "('범죄도시', '인피니티 워', '대박~~')\n",
      "\n",
      "('인피니티 워', '인피니티 워', '불과 며칠전에 저스티스리그봤는데...............10점을 안 줄 수가 없다.')\n",
      "\n",
      "('신과함께', '신과함께', '개인적으로 정말 재밌었다')\n",
      "\n",
      "('범죄도시', '신과함께', '극장에서 본 한국영화중, 첨으로  돈  안까움')\n",
      "\n",
      "('범죄도시', '범죄도시', '비스티보이즈  흥행은 못했지만 영화 속의 윤계상씨가 참 매력적이다 생각했는데  이번에 정말 자기 옷을 입었다는 생각이 듭니다 윤계상이라는 배우는 자상함 속에 마초성이 있다는 생각이 들었었는데 유감없이 그 숨어있던 마초적 매력이 포텐이 터진것 같아요')\n",
      "\n",
      "('인피니티 워', '곤지암', '이 영화를 보니 디씨코믹스 영화들은 코흘리개라고 느끼게 되었다..')\n",
      "\n",
      "('택시운전사', '신과함께', '시도는 좋았으나 결과는 참옥하다.')\n",
      "\n",
      "('택시운전사', '신과함께', '좋은 영화입니다')\n",
      "\n",
      "('신과함께', '신과함께', '보면서  좀  지루하기도 하고 . . . 그런데  그렇게 슬프지 않았는데도  목이  메는건 뭔지 . . .')\n",
      "\n",
      "('범죄도시', '범죄도시', '믿고보는 마동석')\n",
      "\n",
      "('신과함께', '신과함께', '어제 봣습니다 크게 잼있진 않으나 그렇다고 그렇게 재미 없지도 않습니다 그럭저럭 볼만 했구요 우리나라 CG가 많이 좋아졌구나 하는걸 느꼈구요..음..마지막엔 슬픕니다.. 펑펑 울었습니다 ..ㅠㅠ ㅎㅎ')\n",
      "\n"
     ]
    }
   ],
   "source": [
    "print(\"실제 영화 제목 | 예측한 제목 | 리뷰\")\n",
    "\n",
    "for c in zip(y_test[:20], lr.predict(X_test_tfidf[:20]), X_test[:20]):\n",
    "    print(c)\n",
    "    print()"
   ]
  }
 ],
 "metadata": {
  "kernelspec": {
   "display_name": "Python 3 (ipykernel)",
   "language": "python",
   "name": "python3"
  },
  "language_info": {
   "codemirror_mode": {
    "name": "ipython",
    "version": 3
   },
   "file_extension": ".py",
   "mimetype": "text/x-python",
   "name": "python",
   "nbconvert_exporter": "python",
   "pygments_lexer": "ipython3",
   "version": "3.9.7"
  }
 },
 "nbformat": 4,
 "nbformat_minor": 5
}

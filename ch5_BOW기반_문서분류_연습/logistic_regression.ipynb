{
 "cells": [
  {
   "cell_type": "markdown",
   "id": "e8addd3f",
   "metadata": {},
   "source": [
    "# 로지스틱 회귀분석을 이용한 문서 분류\n",
    "<hr> \n",
    "\n",
    "## 1. 일반 로지스틱 회귀분석\n",
    "## 2. 과적합 방지 \n",
    "## &nbsp; &nbsp; - 릿지 회귀(L2), 라쏘 회귀(L1)"
   ]
  },
  {
   "cell_type": "code",
   "execution_count": 1,
   "id": "6101eac0",
   "metadata": {},
   "outputs": [],
   "source": [
    "# 20 뉴스그룹 데이터 가져오기\n",
    "from sklearn.datasets import fetch_20newsgroups\n",
    "\n",
    "# 무교, 종교, 그래픽, 우주 카테고리에 해당하는 포스트 가져옴\n",
    "categories = ['alt.atheism', 'talk.religion.misc', 'comp.graphics', 'sci.space']\n",
    "\n",
    "news_train = fetch_20newsgroups(subset='train', remove=('headers', 'footers', 'quotes'), categories=categories)\n",
    "news_test = fetch_20newsgroups(subset='test', remove=('headers', 'footers', 'quotes'), categories=categories)\n",
    "\n",
    "# train/test split\n",
    "X_train = news_train.data\n",
    "y_train = news_train.target\n",
    "\n",
    "X_test = news_test.data\n",
    "y_test = news_test.target"
   ]
  },
  {
   "cell_type": "code",
   "execution_count": 2,
   "id": "a5481db8",
   "metadata": {},
   "outputs": [
    {
     "name": "stdout",
     "output_type": "stream",
     "text": [
      "Train Accuracy: 0.862\n",
      "Test Accuracy: 0.741\n"
     ]
    }
   ],
   "source": [
    "# TfidfVectorizer로 특성 추출\n",
    "from sklearn.feature_extraction.text import TfidfVectorizer\n",
    "\n",
    "tfidf = TfidfVectorizer(max_features=2000, min_df=5, max_df=0.5)\n",
    "\n",
    "X_train_tfidf = tfidf.fit_transform(X_train)\n",
    "X_test_tfidf = tfidf.transform(X_test)\n",
    "\n",
    "from sklearn.naive_bayes import MultinomialNB\n",
    "\n",
    "NB = MultinomialNB()\n",
    "\n",
    "NB.fit(X_train_tfidf, y_train)\n",
    "\n",
    "print(\"Train Accuracy: {:.3f}\".format(NB.score(X_train_tfidf, y_train)))  # {:.3f} -> format을 이용해 소수 셋째자리까지 나타냄\n",
    "print(\"Test Accuracy: {:.3f}\".format(NB.score(X_test_tfidf, y_test)))"
   ]
  },
  {
   "cell_type": "code",
   "execution_count": 4,
   "id": "3987caa9",
   "metadata": {},
   "outputs": [
    {
     "name": "stdout",
     "output_type": "stream",
     "text": [
      "Train score: 0.930\n",
      "Test score: 0.734\n"
     ]
    }
   ],
   "source": [
    "# 1. 일반 로지스틱 회귀분석\n",
    "\n",
    "from sklearn.linear_model import LogisticRegression\n",
    "\n",
    "lr = LogisticRegression()\n",
    "\n",
    "lr.fit(X_train_tfidf, y_train)\n",
    "\n",
    "print(\"Train score: {:.3f}\".format(lr.score(X_train_tfidf, y_train)))\n",
    "print(\"Test score: {:.3f}\".format(lr.score(X_test_tfidf, y_test)))\n",
    "\n",
    "# 나이브 베이즈보다 훈련 데이터 정확도는 올랐지만\n",
    "# 테스트 데이터 정확도가 낮음 -> 과대적합"
   ]
  },
  {
   "cell_type": "markdown",
   "id": "01282a36",
   "metadata": {},
   "source": [
    "## 릿지 회귀(Ridge regression)\n",
    "- L2 정규화"
   ]
  },
  {
   "cell_type": "code",
   "execution_count": 7,
   "id": "a33a27fd",
   "metadata": {},
   "outputs": [
    {
     "name": "stdout",
     "output_type": "stream",
     "text": [
      "Train score: 0.960\n",
      "Test score: 0.735\n"
     ]
    }
   ],
   "source": [
    "from sklearn.linear_model import RidgeClassifier\n",
    "\n",
    "ridge = RidgeClassifier()\n",
    "ridge.fit(X_train_tfidf, y_train)\n",
    "\n",
    "print(\"Train score: {:.3f}\".format(ridge.score(X_train_tfidf, y_train)))\n",
    "print(\"Test score: {:.3f}\".format(ridge.score(X_test_tfidf, y_test)))\n",
    "\n",
    "# 그닥 성능이 나아지지 않았음"
   ]
  },
  {
   "cell_type": "code",
   "execution_count": 16,
   "id": "47da7906",
   "metadata": {},
   "outputs": [
    {
     "name": "stdout",
     "output_type": "stream",
     "text": [
      "Max alpha 1.600, max validation score 0.826\n"
     ]
    }
   ],
   "source": [
    "# alpha를 조정해보자\n",
    "# alpha: 정규화 정도를 조절, 값이 커질수록 더 강한 규제\n",
    "\n",
    "import numpy as np\n",
    "from sklearn.model_selection import train_test_split\n",
    "\n",
    "# 검증 데이터를 얻기 위해 train test split\n",
    "X_train_ridge, X_val_ridge, y_train_ridge, y_val_ridge = train_test_split(X_train_tfidf, y_train, test_size=0.2, random_state=42)\n",
    "\n",
    "max_score=0\n",
    "max_alpha=0\n",
    "\n",
    "# alpha값을 0.1부터 10까지 0.1간격으로 넣어봄\n",
    "alpha_list=[]\n",
    "score_list=[]\n",
    "for alpha in np.arange(0.1, 10, 0.1):\n",
    "    ridge = RidgeClassifier(alpha=alpha)\n",
    "    ridge.fit(X_train_ridge, y_train_ridge)\n",
    "    \n",
    "    score = ridge.score(X_val_ridge, y_val_ridge)\n",
    "    if score > max_score:\n",
    "        max_score = score\n",
    "        max_alpha = alpha\n",
    "        alpha_list.append(max_alpha)\n",
    "        score_list.append(max_score)\n",
    "print(\"Max alpha {:.3f}, max validation score {:.3f}\".format(max_alpha, max_score))"
   ]
  },
  {
   "cell_type": "code",
   "execution_count": 79,
   "id": "23f7e3fb",
   "metadata": {},
   "outputs": [
    {
     "data": {
      "image/png": "[encoded data removed]",
      "text/plain": [
       "<Figure size 720x504 with 1 Axes>"
      ]
     },
     "metadata": {
      "needs_background": "light"
     },
     "output_type": "display_data"
    }
   ],
   "source": [
    "# 그냥 해보는 alpha, score 시각화\n",
    "import matplotlib.pyplot as plt\n",
    "\n",
    "plt.figure(figsize=(10, 7))\n",
    "plt.plot(alpha_list, score_list)  # x, y\n",
    "plt.title(\"score based on alpha\")\n",
    "plt.xlabel(\"Alpha\")\n",
    "plt.ylabel(\"Score\")\n",
    "\n",
    "plt.rc('font', size=20)        # 기본 폰트 크기\n",
    "plt.rc('axes', labelsize=20)   # x,y축 label 폰트 크기\n",
    "plt.rc('xtick', labelsize=15)  # x축 눈금 폰트 크기 \n",
    "plt.rc('ytick', labelsize=15)  # y축 눈금 폰트 크기\n",
    "plt.rc('legend', fontsize=20)  # 범례 폰트 크기\n",
    "plt.rc('figure', titlesize=50) # figure title 폰트 크기\n",
    "\n",
    "\n",
    "for i in range(len(alpha_list)):\n",
    "    plt.text(alpha_list[i], score_list[i], round(score_list[i], 3),                 # plt.text(x위치, y위치, 표시할 텍스트)\n",
    "             fontsize = 13, \n",
    "             color='red',\n",
    "             horizontalalignment='center')\n",
    "plt.show()"
   ]
  },
  {
   "cell_type": "code",
   "execution_count": 80,
   "id": "278fa5ba",
   "metadata": {},
   "outputs": [
    {
     "name": "stdout",
     "output_type": "stream",
     "text": [
      "Train score: 0.948\n",
      "Test score: 0.739\n"
     ]
    }
   ],
   "source": [
    "# 찾은 alpha값으로 다시 fit\n",
    "ridge = RidgeClassifier(alpha=1.6)\n",
    "ridge.fit(X_train_tfidf, y_train)\n",
    "\n",
    "print(\"Train score: {:.3f}\".format(ridge.score(X_train_tfidf, y_train)))\n",
    "print(\"Test score: {:.3f}\".format(ridge.score(X_test_tfidf, y_test)))"
   ]
  },
  {
   "cell_type": "code",
   "execution_count": 81,
   "id": "b3e12364",
   "metadata": {},
   "outputs": [
    {
     "name": "stdout",
     "output_type": "stream",
     "text": [
      "Collecting import_ipynbNote: you may need to restart the kernel to use updated packages.\n",
      "\n",
      "  Downloading import_ipynb-0.1.4-py3-none-any.whl (4.1 kB)\n",
      "Requirement already satisfied: IPython in c:\\users\\ing06\\anaconda3\\lib\\site-packages (from import_ipynb) (8.2.0)\n",
      "Requirement already satisfied: nbformat in c:\\users\\ing06\\anaconda3\\lib\\site-packages (from import_ipynb) (5.3.0)\n",
      "Requirement already satisfied: decorator in c:\\users\\ing06\\anaconda3\\lib\\site-packages (from IPython->import_ipynb) (5.1.1)\n",
      "Requirement already satisfied: matplotlib-inline in c:\\users\\ing06\\anaconda3\\lib\\site-packages (from IPython->import_ipynb) (0.1.2)\n",
      "Requirement already satisfied: backcall in c:\\users\\ing06\\anaconda3\\lib\\site-packages (from IPython->import_ipynb) (0.2.0)\n",
      "Requirement already satisfied: prompt-toolkit!=3.0.0,!=3.0.1,<3.1.0,>=2.0.0 in c:\\users\\ing06\\anaconda3\\lib\\site-packages (from IPython->import_ipynb) (3.0.20)\n",
      "Requirement already satisfied: stack-data in c:\\users\\ing06\\anaconda3\\lib\\site-packages (from IPython->import_ipynb) (0.2.0)\n",
      "Requirement already satisfied: setuptools>=18.5 in c:\\users\\ing06\\anaconda3\\lib\\site-packages (from IPython->import_ipynb) (61.2.0)\n",
      "Requirement already satisfied: colorama in c:\\users\\ing06\\appdata\\roaming\\python\\python39\\site-packages (from IPython->import_ipynb) (0.4.3)\n",
      "Requirement already satisfied: traitlets>=5 in c:\\users\\ing06\\anaconda3\\lib\\site-packages (from IPython->import_ipynb) (5.1.1)\n",
      "Requirement already satisfied: pygments>=2.4.0 in c:\\users\\ing06\\anaconda3\\lib\\site-packages (from IPython->import_ipynb) (2.11.2)\n",
      "Requirement already satisfied: pickleshare in c:\\users\\ing06\\anaconda3\\lib\\site-packages (from IPython->import_ipynb) (0.7.5)\n",
      "Requirement already satisfied: jedi>=0.16 in c:\\users\\ing06\\anaconda3\\lib\\site-packages (from IPython->import_ipynb) (0.18.1)\n",
      "Requirement already satisfied: fastjsonschema in c:\\users\\ing06\\anaconda3\\lib\\site-packages (from nbformat->import_ipynb) (2.15.1)\n",
      "Requirement already satisfied: jsonschema>=2.6 in c:\\users\\ing06\\anaconda3\\lib\\site-packages (from nbformat->import_ipynb) (4.4.0)\n",
      "Requirement already satisfied: jupyter-core in c:\\users\\ing06\\anaconda3\\lib\\site-packages (from nbformat->import_ipynb) (4.9.2)\n",
      "Requirement already satisfied: parso<0.9.0,>=0.8.0 in c:\\users\\ing06\\anaconda3\\lib\\site-packages (from jedi>=0.16->IPython->import_ipynb) (0.8.3)\n",
      "Requirement already satisfied: pyrsistent!=0.17.0,!=0.17.1,!=0.17.2,>=0.14.0 in c:\\users\\ing06\\anaconda3\\lib\\site-packages (from jsonschema>=2.6->nbformat->import_ipynb) (0.18.0)\n",
      "Requirement already satisfied: attrs>=17.4.0 in c:\\users\\ing06\\anaconda3\\lib\\site-packages (from jsonschema>=2.6->nbformat->import_ipynb) (21.4.0)\n",
      "Requirement already satisfied: wcwidth in c:\\users\\ing06\\appdata\\roaming\\python\\python39\\site-packages (from prompt-toolkit!=3.0.0,!=3.0.1,<3.1.0,>=2.0.0->IPython->import_ipynb) (0.1.9)\n",
      "Requirement already satisfied: pywin32>=1.0 in c:\\users\\ing06\\anaconda3\\lib\\site-packages (from jupyter-core->nbformat->import_ipynb) (302)\n",
      "Requirement already satisfied: asttokens in c:\\users\\ing06\\anaconda3\\lib\\site-packages (from stack-data->IPython->import_ipynb) (2.0.5)\n",
      "Requirement already satisfied: pure-eval in c:\\users\\ing06\\anaconda3\\lib\\site-packages (from stack-data->IPython->import_ipynb) (0.2.2)\n",
      "Requirement already satisfied: executing in c:\\users\\ing06\\anaconda3\\lib\\site-packages (from stack-data->IPython->import_ipynb) (0.8.3)\n",
      "Requirement already satisfied: six in c:\\users\\ing06\\appdata\\roaming\\python\\python39\\site-packages (from asttokens->stack-data->IPython->import_ipynb) (1.14.0)\n",
      "Installing collected packages: import_ipynb\n",
      "Successfully installed import_ipynb-0.1.4\n"
     ]
    }
   ],
   "source": [
    "pip install import_ipynb"
   ]
  },
  {
   "cell_type": "code",
   "execution_count": 84,
   "id": "9aeaacec",
   "metadata": {},
   "outputs": [
    {
     "name": "stdout",
     "output_type": "stream",
     "text": [
      "alt.atheism: bobby, religion, atheism, atheists, motto, punishment, islam, deletion, islamic, satan\n",
      "comp.graphics: graphics, computer, 3d, file, image, hi, 42, using, screen, looking\n",
      "sci.space: space, orbit, nasa, spacecraft, moon, sci, launch, flight, funding, idea\n",
      "talk.religion.misc: christian, christians, fbi, blood, order, jesus, objective, children, christ, hudson\n"
     ]
    }
   ],
   "source": [
    "# 이전 파일에서 top10_features() 임포트하기\n",
    "import import_ipynb\n",
    "from naive_bayes2 import top10_features\n",
    "\n",
    "top10_features(ridge, tfidf, news_train.target_names)\n",
    "# 릿지 회귀 결과, 나이브 베이즈보다 훨씬 중요한 단어들을 보여줌"
   ]
  },
  {
   "cell_type": "markdown",
   "id": "81be5486",
   "metadata": {},
   "source": [
    "## 라쏘 회귀(Lasso regression)\n",
    "- L1 정규화\n",
    "- 릿지와 차이점: 특성의 계수가 0에 가까워지면 0으로 바꿈(즉, 해당 특성값 사용X) <br/>\n",
    "&nbsp; &nbsp; &nbsp; &nbsp;&nbsp; &nbsp; &nbsp; &nbsp;&nbsp; &nbsp; &nbsp; &nbsp; &nbsp; 이처럼 특성의 수를 줄이는 것을 **특성 선택(feature selection)** 이라고 함"
   ]
  },
  {
   "cell_type": "code",
   "execution_count": 89,
   "id": "69a39ad4",
   "metadata": {},
   "outputs": [
    {
     "name": "stdout",
     "output_type": "stream",
     "text": [
      "Train score: 0.819\n",
      "Test score: 0.724\n"
     ]
    }
   ],
   "source": [
    "# 라쏘는 로지스틱 회귀분석의 매개변수로 지정\n",
    "\n",
    "# c는 릿지에서 alpha와 같은 기능, 근데 alpha와 달리 값이 작아야 더 강한 규제\n",
    "lasso = LogisticRegression(penalty='l1', solver='liblinear', C=1)  \n",
    "\n",
    "lasso.fit(X_train_tfidf, y_train)\n",
    "\n",
    "print(\"Train score: {:.3f}\".format(lasso.score(X_train_tfidf, y_train)))\n",
    "print(\"Test score: {:.3f}\".format(lasso.score(X_test_tfidf, y_test)))"
   ]
  },
  {
   "cell_type": "code",
   "execution_count": 91,
   "id": "89bde6e9",
   "metadata": {},
   "outputs": [
    {
     "name": "stdout",
     "output_type": "stream",
     "text": [
      "Used features: 437 out of 2000\n"
     ]
    }
   ],
   "source": [
    "# 사용된 특성의 수 출력\n",
    "print(\"Used features: {}\".format(np.sum(lasso.coef_ != 0)),\n",
    "     'out of', X_train_tfidf.shape[1])"
   ]
  },
  {
   "cell_type": "code",
   "execution_count": 92,
   "id": "5d0a8fcf",
   "metadata": {},
   "outputs": [
    {
     "name": "stdout",
     "output_type": "stream",
     "text": [
      "alt.atheism: bobby, atheism, atheists, islam, religion, islamic, motto, atheist, satan, vice\n",
      "comp.graphics: graphics, image, 3d, file, computer, hi, video, files, looking, sphere\n",
      "sci.space: space, orbit, launch, nasa, spacecraft, flight, moon, dc, shuttle, solar\n",
      "talk.religion.misc: fbi, christian, christians, christ, order, jesus, children, objective, context, blood\n"
     ]
    }
   ],
   "source": [
    "top10_features(lasso, tfidf, news_train.target_names)"
   ]
  },
  {
   "cell_type": "code",
   "execution_count": null,
   "id": "76a33000",
   "metadata": {},
   "outputs": [],
   "source": []
  }
 ],
 "metadata": {
  "kernelspec": {
   "display_name": "Python 3 (ipykernel)",
   "language": "python",
   "name": "python3"
  },
  "language_info": {
   "codemirror_mode": {
    "name": "ipython",
    "version": 3
   },
   "file_extension": ".py",
   "mimetype": "text/x-python",
   "name": "python",
   "nbconvert_exporter": "python",
   "pygments_lexer": "ipython3",
   "version": "3.9.7"
  }
 },
 "nbformat": 4,
 "nbformat_minor": 5
}

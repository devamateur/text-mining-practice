{
 "cells": [
  {
   "cell_type": "markdown",
   "id": "131edc5d",
   "metadata": {},
   "source": [
    "BOW(Bag of Words)의 치명적 단점: 단어가 사용된 횟수를 기반으로 벡터를 만들기 때문에 **단어의 순서나 문맥을 활용하지 못함**\n",
    "\n",
    "<br/>\n",
    "\n",
    "# N-gram\n",
    "### 'N개의 연속적인 단어들의 나열'을 의미, 하나의 토큰이 두 개 이상의 단어로 구성될 수 있음. \n",
    "### N이 바로 토큰을 구성하는 단어의 수를 나타냄\n",
    "ex) \"The future depends on what we do in the present\"를 토큰화 <br/>\n",
    "&nbsp; &nbsp; &nbsp; &nbsp; bi-gram(N이 2일 때) -> 'The future', 'future depends', 'depends on', 'on what', ... 'the present'"
   ]
  },
  {
   "cell_type": "markdown",
   "id": "609aca02",
   "metadata": {},
   "source": [
    "\n",
    "### 일반적으로 N이 커질수록 더 많은 정보를 담을 수 있음\n",
    "### 그러나, BOW 방식은 기본적으로 과적합 문제가 발생하므로 N은 3까지 사용하는 것이 적당"
   ]
  },
  {
   "cell_type": "code",
   "execution_count": 1,
   "id": "9f738c49",
   "metadata": {},
   "outputs": [],
   "source": [
    "# 20 뉴스그룹 데이터 가져오기\n",
    "from sklearn.datasets import fetch_20newsgroups\n",
    "\n",
    "# 무교, 종교, 그래픽, 우주 카테고리에 해당하는 포스트 가져옴\n",
    "categories = ['alt.atheism', 'talk.religion.misc', 'comp.graphics', 'sci.space']\n",
    "\n",
    "news_train = fetch_20newsgroups(subset='train', remove=('headers', 'footers', 'quotes'), categories=categories)\n",
    "news_test = fetch_20newsgroups(subset='test', remove=('headers', 'footers', 'quotes'), categories=categories)"
   ]
  },
  {
   "cell_type": "code",
   "execution_count": 2,
   "id": "9b16e5ad",
   "metadata": {},
   "outputs": [],
   "source": [
    "# train/test split\n",
    "X_train = news_train.data\n",
    "y_train = news_train.target\n",
    "\n",
    "X_test = news_test.data\n",
    "y_test = news_test.target"
   ]
  },
  {
   "cell_type": "code",
   "execution_count": 4,
   "id": "ed7c0b3d",
   "metadata": {},
   "outputs": [
    {
     "name": "stdout",
     "output_type": "stream",
     "text": [
      "(2034, 11483)\n"
     ]
    }
   ],
   "source": [
    "# 1. Unigram(N이 1개)으로 TfidfVectorizer 생성\n",
    "from nltk.corpus import stopwords\n",
    "from sklearn.feature_extraction.text import TfidfVectorizer\n",
    "\n",
    "cachedStopWords = stopwords.words('english')\n",
    "\n",
    "tfidf = TfidfVectorizer(token_pattern=\"[a-zA-Z']{3,}\", # 3글자 이상 문자 추출\n",
    "                        decode_error = 'ignore',\n",
    "                        lowercase=True,\n",
    "                        stop_words=cachedStopWords,\n",
    "                        max_df=0.5,\n",
    "                        min_df=2)  \n",
    "\n",
    "X_train_tfidf = tfidf.fit_transform(X_train)\n",
    "X_test_tfidf = tfidf.transform(X_test)\n",
    "\n",
    "print(X_train_tfidf.shape)"
   ]
  },
  {
   "cell_type": "code",
   "execution_count": 7,
   "id": "c2b7554f",
   "metadata": {},
   "outputs": [
    {
     "name": "stdout",
     "output_type": "stream",
     "text": [
      "Train score: 0.976\n",
      "Test score: 0.766\n"
     ]
    }
   ],
   "source": [
    "# N-gram 사용으로 변수가 늘어나 과적합 우려가 있으므로\n",
    "# 릿지 회귀 사용\n",
    "from sklearn.linear_model import RidgeClassifier\n",
    "\n",
    "ridge = RidgeClassifier()\n",
    "\n",
    "ridge.fit(X_train_tfidf, y_train)\n",
    "\n",
    "print(\"Train score: {:.3f}\".format(ridge.score(X_train_tfidf, y_train)))\n",
    "print(\"Test score: {:.3f}\".format(ridge.score(X_test_tfidf, y_test)))"
   ]
  },
  {
   "cell_type": "code",
   "execution_count": 8,
   "id": "9c2e6dc3",
   "metadata": {},
   "outputs": [
    {
     "name": "stdout",
     "output_type": "stream",
     "text": [
      "(2034, 26550)\n"
     ]
    }
   ],
   "source": [
    "# bi-gram\n",
    "# TfidfVectorizer의 경우 매개변수로 ngram_range를 사용하면 됨\n",
    "\n",
    "tfidf = TfidfVectorizer(token_pattern=\"[a-zA-Z']{3,}\", # 3글자 이상 문자 추출\n",
    "                        decode_error = 'ignore',\n",
    "                        lowercase=True,\n",
    "                        stop_words=cachedStopWords,\n",
    "                        ngram_range=(1, 2),            # unigram, bi-gram 모두 사용\n",
    "                        max_df=0.5,\n",
    "                        min_df=2) \n",
    "\n",
    "X_train_tfidf = tfidf.fit_transform(X_train)\n",
    "X_test_tfidf = tfidf.transform(X_test)\n",
    "\n",
    "print(X_train_tfidf.shape)\n",
    "# 특성의 수가 11483 -> 26550으로 두 배 이상 증가함"
   ]
  },
  {
   "cell_type": "code",
   "execution_count": 13,
   "id": "8e6f422b",
   "metadata": {},
   "outputs": [
    {
     "name": "stdout",
     "output_type": "stream",
     "text": [
      "bi-gram features:  [\"'cause can't\", \"'em better\", \"'expected errors'\", \"'karla' next\", \"'nodis' password\", \"'official doctrine\", \"'ok see\", \"'sci astro'\", \"'what's moonbase\", 'aas american', 'ability means', 'ability pass', 'able accept', 'able afford', 'able control', 'able convince', 'able draw', 'able establish', 'able find', 'able get', 'able help', 'able import', 'able judge', 'able make', 'able read', 'able run', 'able see', 'able support', 'able tell', 'able upgrade', 'able use', 'able view', 'able work', 'abolish law', 'abortion services', 'abraham moses', 'absence belief', 'absolute moral', 'absolute morality', 'absolute objective', 'absolute sense', 'absolute truth', 'absolutely nothing', 'abstact submission', 'abstract videotape', 'abstracts authors', 'abstracts files', 'abuse mismanagement', 'acad alaska', 'academic institutions']\n",
      "\n",
      "Train score: 0.976\n",
      "Test score: 0.773\n"
     ]
    }
   ],
   "source": [
    "# bi-gram 특성 출력하기\n",
    "\n",
    "bigram_features = [f for f in tfidf.get_feature_names_out() if len(f.split()) > 1]\n",
    "print(\"bi-gram features: \", bigram_features[:50])\n",
    "print()\n",
    "\n",
    "# 릿지 회귀\n",
    "ridge.fit(X_train_tfidf, y_train)\n",
    "\n",
    "print(\"Train score: {:.3f}\".format(ridge.score(X_train_tfidf, y_train)))\n",
    "print(\"Test score: {:.3f}\".format(ridge.score(X_test_tfidf, y_test)))"
   ]
  },
  {
   "cell_type": "code",
   "execution_count": 15,
   "id": "78875171",
   "metadata": {},
   "outputs": [
    {
     "name": "stdout",
     "output_type": "stream",
     "text": [
      "(2034, 32943)\n"
     ]
    }
   ],
   "source": [
    "# tri-gram\n",
    "tfidf = TfidfVectorizer(token_pattern=\"[a-zA-Z']{3,}\", # 3글자 이상 문자 추출\n",
    "                        decode_error = 'ignore',\n",
    "                        lowercase=True,\n",
    "                        stop_words=cachedStopWords,\n",
    "                        ngram_range=(1, 3),            # unigram, bi-gram, tri-gram 모두 사용\n",
    "                        max_df=0.5,\n",
    "                        min_df=2) \n",
    "\n",
    "X_train_tfidf = tfidf.fit_transform(X_train)\n",
    "X_test_tfidf = tfidf.transform(X_test)\n",
    "\n",
    "print(X_train_tfidf.shape)"
   ]
  },
  {
   "cell_type": "code",
   "execution_count": 17,
   "id": "9b6add11",
   "metadata": {},
   "outputs": [
    {
     "name": "stdout",
     "output_type": "stream",
     "text": [
      "tri-gram features:  [\"'em better shots\", \"'expected errors' basically\", \"'karla' next one\", \"'nodis' password also\", \"'official doctrine think\", \"'ok see warning\", \"'what's moonbase good\", 'aas american astronautical', 'ability means infallible', 'able accept donations', 'able afford stuff', 'able tell liar', 'abolish law prophets', 'absence belief existence', 'absolute moral code', 'abstact submission deadline', 'abstract videotape robert', 'abstracts authors submit', 'abuse mismanagement contact', 'acad alaska edu', 'accept donations keep', 'acceptable range cmd', 'acceptable range orbiter', 'acceptable range rpm', 'acceptance sent may', 'accepted doctrine clearly', 'accepted give number', 'accepted presentations published', 'access contact nasa', 'access digex com', 'access extra ram', 'access huge astronomical', 'access roms data', 'access visa mastercard', 'accessed hours day', 'accidentally set blaze', 'accompanied offsetting reductions', 'accomplish exploration saturnian', 'accor higher value', 'according bible eternal', 'according islamic law', 'according jim way', 'according likes dislikes', 'according robert weiss', 'account smile lot', 'accuracy arc minutes', 'accurate arc minute', 'accurate global observations', 'achieving dominance marketplace', 'achieving goal gibbons']\n",
      "\n",
      "Train score: 0.976\n",
      "Test score: 0.775\n"
     ]
    }
   ],
   "source": [
    "# tri-gram 특성 출력\n",
    "trigram_features = [f for f in tfidf.get_feature_names_out() if len(f.split()) > 2]\n",
    "print(\"tri-gram features: \", trigram_features[:50])\n",
    "print()\n",
    "\n",
    "# 릿지 회귀\n",
    "ridge.fit(X_train_tfidf, y_train)\n",
    "\n",
    "print(\"Train score: {:.3f}\".format(ridge.score(X_train_tfidf, y_train)))\n",
    "print(\"Test score: {:.3f}\".format(ridge.score(X_test_tfidf, y_test)))"
   ]
  },
  {
   "cell_type": "code",
   "execution_count": null,
   "id": "8a1b038c",
   "metadata": {},
   "outputs": [],
   "source": []
  }
 ],
 "metadata": {
  "kernelspec": {
   "display_name": "Python 3 (ipykernel)",
   "language": "python",
   "name": "python3"
  },
  "language_info": {
   "codemirror_mode": {
    "name": "ipython",
    "version": 3
   },
   "file_extension": ".py",
   "mimetype": "text/x-python",
   "name": "python",
   "nbconvert_exporter": "python",
   "pygments_lexer": "ipython3",
   "version": "3.9.7"
  }
 },
 "nbformat": 4,
 "nbformat_minor": 5
}

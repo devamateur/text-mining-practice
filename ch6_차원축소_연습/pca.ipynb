{
 "cells": [
  {
   "cell_type": "markdown",
   "id": "3e5aa0b8",
   "metadata": {},
   "source": [
    "# 차원 축소\n",
    "<hr>\n",
    "\n",
    "**차원의 저주:** 차원이 커지면서 차원이 구성하는 공간의 크기가 커져 데이터들 간의 거리가 멀어지고 <br/>\n",
    "&nbsp; &nbsp; &nbsp; &nbsp; &nbsp; &nbsp; &nbsp; &nbsp; &nbsp; &nbsp; &nbsp;그 결과, 데이터가 희박해지는 문제\n",
    "<br/><br/>\n",
    "데이터가 희박해지면 학습한 모형의 설명력이 떨어짐 <br/>\n",
    "ex) 많은 양의 데이터 요구, KNN과 같은 거리에 기반한 알고리즘의 성능 저하\n",
    "\n",
    "<br/>\n",
    "\n",
    "## 차원의 저주 해결방법\n",
    "1. 데이터 양 늘리기 <br/>\n",
    "2. **차원 축소** <br/>\n",
    "&nbsp; - 특성 선택: 대표 특성을 선택 -> 라쏘 회귀! <br/>\n",
    "&nbsp; - 특성 추출(feature extraction): 기존 특성을 조합해 새로운 특성 생성 ex) PCA, LSA"
   ]
  },
  {
   "cell_type": "code",
   "execution_count": 4,
   "id": "3c9e31ab",
   "metadata": {},
   "outputs": [],
   "source": [
    "# 1. PCA(Principal Component Analysis, 주성분 분석)\n",
    "# 분산을 가장 크게 만드는 새로운 축을 찾는 방법론\n",
    "\n",
    "# 20뉴스그룹 데이터 불러오기\n",
    "from sklearn.datasets import fetch_20newsgroups\n",
    "\n",
    "categories = ['alt.atheism', 'talk.religion.misc', 'comp.graphics', 'sci.space']\n",
    "\n",
    "# train\n",
    "news_train = fetch_20newsgroups(subset='train',\n",
    "                                remove=('headers', 'footers', 'quotes'),\n",
    "                                categories=categories)\n",
    "\n",
    "# test\n",
    "news_test = fetch_20newsgroups(subset='test',\n",
    "                               remove=('headers', 'footers', 'quotes'),\n",
    "                               categories=categories)"
   ]
  },
  {
   "cell_type": "code",
   "execution_count": 6,
   "id": "f9a9f6c3",
   "metadata": {},
   "outputs": [],
   "source": [
    "# 전처리\n",
    "from sklearn.feature_extraction.text import TfidfVectorizer\n",
    "from nltk.corpus import stopwords\n",
    "\n",
    "cachedStopWords = stopwords.words('english')   # 불용어\n",
    "\n",
    "from nltk.tokenize import RegexpTokenizer\n",
    "from nltk.stem.porter import PorterStemmer\n",
    "\n",
    "# train/test split\n",
    "X_train = news_train.data\n",
    "y_train = news_train.target\n",
    "\n",
    "X_test = news_test.data\n",
    "y_test = news_test.target\n",
    "\n",
    "# 토큰화\n",
    "reg = RegexpTokenizer(\"[\\w']{3,}\")\n",
    "english_stops = set(stopwords.words('english'))\n",
    "\n",
    "def tokenizer(text):\n",
    "    tokens = reg.tokenize(text.lower())    # 텍스트를 소문자로 변환한 뒤 토큰화\n",
    "    words = [word for word in tokens if word not in english_stops and len(word)>2]    # 불용어 제거\n",
    "    \n",
    "    # 포터 스테머\n",
    "    \n",
    "    # lambda로 어간추출한 것을 map을 이용해 words에 적용\n",
    "    # 즉, words에서 어간추출\n",
    "    features = (list(map(lambda token: PorterStemmer().stem(token), words)))\n",
    "    \n",
    "    return features"
   ]
  },
  {
   "cell_type": "code",
   "execution_count": 14,
   "id": "774f2d71",
   "metadata": {},
   "outputs": [],
   "source": [
    "# tfidf\n",
    "tfidf = TfidfVectorizer(tokenizer=tokenizer)\n",
    "X_train_tfidf = tfidf.fit_transform(X_train)\n",
    "X_test_tfidf = tfidf.transform(X_test)"
   ]
  },
  {
   "cell_type": "code",
   "execution_count": 15,
   "id": "de121fd6",
   "metadata": {},
   "outputs": [
    {
     "name": "stdout",
     "output_type": "stream",
     "text": [
      "# Train score: 0.962\n",
      "# Test score: 0.761\n"
     ]
    }
   ],
   "source": [
    "# 차원 축소 전: 로지스틱 회귀분석\n",
    "from sklearn.linear_model import LogisticRegression\n",
    "\n",
    "lr = LogisticRegression()\n",
    "lr.fit(X_train_tfidf, y_train)\n",
    "\n",
    "print(\"# Train score: {:.3f}\".format(lr.score(X_train_tfidf, y_train)))\n",
    "print(\"# Test score: {:.3f}\".format(lr.score(X_test_tfidf, y_test)))"
   ]
  },
  {
   "cell_type": "code",
   "execution_count": 16,
   "id": "a5d96173",
   "metadata": {},
   "outputs": [
    {
     "name": "stdout",
     "output_type": "stream",
     "text": [
      "Original Tfidf matrix shape:  (2034, 20085)\n"
     ]
    }
   ],
   "source": [
    "### PCA\n",
    "from sklearn.decomposition import PCA\n",
    "\n",
    "# 차원 축소 전 차원의 크기\n",
    "print(\"Original Tfidf matrix shape: \", X_train_tfidf.shape)"
   ]
  },
  {
   "cell_type": "code",
   "execution_count": 17,
   "id": "f1297af6",
   "metadata": {},
   "outputs": [
    {
     "name": "stdout",
     "output_type": "stream",
     "text": [
      "PCA Converted matrix shape:  (2034, 2000)\n",
      "Sum of explained variance ratio: 1.000\n"
     ]
    }
   ],
   "source": [
    "# 차원 축소\n",
    "\n",
    "# n_components: 축소할 차원의 크기\n",
    "pca = PCA(n_components=2000, random_state=7)\n",
    "\n",
    "X_train_pca = pca.fit_transform(X_train_tfidf.toarray())  # pca는 벡터에 대한 직접적 연산 지원하지 X, array로 변환 후 transform\n",
    "X_test_pca = pca.transform(X_test_tfidf.toarray())\n",
    "\n",
    "print(\"PCA Converted matrix shape: \", X_train_pca.shape)\n",
    "\n",
    "# explained_variance_ratio: 새로운 분산을 축소 전 분산에 대한 비율로 나타냄, 즉 새로운 축의 설명력을 알 수 있음\n",
    "print(\"Sum of explained variance ratio: {:.3f}\".format(pca.explained_variance_ratio_.sum()))\n",
    "# 설명되는 분산이 100%임을 알 수 있음"
   ]
  },
  {
   "cell_type": "code",
   "execution_count": 18,
   "id": "3d214b7a",
   "metadata": {},
   "outputs": [
    {
     "name": "stdout",
     "output_type": "stream",
     "text": [
      "# Train score: 0.962\n",
      "# Test score: 0.761\n"
     ]
    }
   ],
   "source": [
    "# 축소된 데이터에 대해 로지스틱 회귀분석\n",
    "\n",
    "lr.fit(X_train_pca, y_train)\n",
    "print(\"# Train score: {:.3f}\".format(lr.score(X_train_pca, y_train)))\n",
    "print(\"# Test score: {:.3f}\".format(lr.score(X_test_pca, y_test)))\n",
    "\n",
    "# 1/10로 축소했음에도 똑같은 성능임을 알 수 있음"
   ]
  },
  {
   "cell_type": "code",
   "execution_count": 20,
   "id": "b4124fc0",
   "metadata": {},
   "outputs": [
    {
     "name": "stdout",
     "output_type": "stream",
     "text": [
      "# Train score: 0.790\n",
      "# Test score: 0.718\n",
      "# Used features: 321 out of  (2034, 20085)\n"
     ]
    }
   ],
   "source": [
    "# 라쏘와 비교\n",
    "lasso = LogisticRegression(penalty='l1', solver='liblinear', C=1)\n",
    "lasso.fit(X_train_tfidf, y_train)\n",
    "\n",
    "print(\"# Train score: {:.3f}\".format(lasso.score(X_train_tfidf, y_train)))\n",
    "print(\"# Test score: {:.3f}\".format(lasso.score(X_test_tfidf, y_test)))\n",
    "\n",
    "# 0이 아닌 계수 출력\n",
    "import numpy as np\n",
    "\n",
    "print(\"# Used features: {}\".format(np.sum(lasso.coef_ != 0)), \"out of \", X_train_tfidf.shape)"
   ]
  },
  {
   "cell_type": "code",
   "execution_count": 22,
   "id": "a3cff8dc",
   "metadata": {},
   "outputs": [
    {
     "name": "stdout",
     "output_type": "stream",
     "text": [
      "PCA Converted matrix shape:  (2034, 321)\n",
      "Sum of explained variance ratio: 0.437\n",
      "# Train score: 0.875\n",
      "# Test score: 0.751\n"
     ]
    }
   ],
   "source": [
    "# 차원축소도 321개로\n",
    "\n",
    "pca = PCA(n_components=321, random_state=7)\n",
    "\n",
    "X_train_pca = pca.fit_transform(X_train_tfidf.toarray())  \n",
    "X_test_pca = pca.transform(X_test_tfidf.toarray())\n",
    "\n",
    "print(\"PCA Converted matrix shape: \", X_train_pca.shape)\n",
    "\n",
    "print(\"Sum of explained variance ratio: {:.3f}\".format(pca.explained_variance_ratio_.sum()))\n",
    "\n",
    "lr.fit(X_train_pca, y_train)\n",
    "print(\"# Train score: {:.3f}\".format(lr.score(X_train_pca, y_train)))\n",
    "print(\"# Test score: {:.3f}\".format(lr.score(X_test_pca, y_test)))\n",
    "\n",
    "# 특성의 수가 같을 때, 라쏘보다 성능이 좋음"
   ]
  },
  {
   "cell_type": "code",
   "execution_count": null,
   "id": "6b3f6335",
   "metadata": {},
   "outputs": [],
   "source": []
  }
 ],
 "metadata": {
  "kernelspec": {
   "display_name": "Python 3 (ipykernel)",
   "language": "python",
   "name": "python3"
  },
  "language_info": {
   "codemirror_mode": {
    "name": "ipython",
    "version": 3
   },
   "file_extension": ".py",
   "mimetype": "text/x-python",
   "name": "python",
   "nbconvert_exporter": "python",
   "pygments_lexer": "ipython3",
   "version": "3.9.7"
  }
 },
 "nbformat": 4,
 "nbformat_minor": 5
}

{
 "cells": [
  {
   "cell_type": "markdown",
   "id": "47c4b01f",
   "metadata": {},
   "source": [
    "## LSA(Latent Semantic Analysis, 잠재 의미 분석)\n",
    "- 문서의 잠재된 의미 분석 및 단어에 잠재된 의미 분석 가능\n",
    "- 의미는 문서와 단어를 연결하는 매개체, 축소된 차원이 이 역할?\n",
    "- 절단된 SVD(Truncated SVD)로 구현됨\n",
    "<br/>\n",
    "\n",
    "**SVD(Singular Value Decomposition):** 특이값 분해, m x n 크기 행렬을 세 개 행렬의 곱으로 분해하는 것 <br/><br/>\n",
    "$$ X = UΣV^T $$ <br/>\n",
    "``U와 V: m x m, n x n 크기를 갖는 직교행렬 \n",
    "Σ: m x n 크기의 대각행렬 ``\n",
    "\n",
    "분해된 세 행렬을 다시 곱해 원래 데이터를 복원할 수 있음 <br/>\n",
    "단, 절단된 SVD에서는 완전한 복원이 불가능, 최대한 유사하게"
   ]
  },
  {
   "cell_type": "code",
   "execution_count": 1,
   "id": "b5eb7ea2",
   "metadata": {},
   "outputs": [],
   "source": [
    "# 20뉴스그룹 데이터 불러오기\n",
    "from sklearn.datasets import fetch_20newsgroups\n",
    "\n",
    "categories = ['alt.atheism', 'talk.religion.misc', 'comp.graphics', 'sci.space']\n",
    "\n",
    "# train\n",
    "news_train = fetch_20newsgroups(subset='train',\n",
    "                                remove=('headers', 'footers', 'quotes'),\n",
    "                                categories=categories)\n",
    "\n",
    "# test\n",
    "news_test = fetch_20newsgroups(subset='test',\n",
    "                               remove=('headers', 'footers', 'quotes'),\n",
    "                               categories=categories)"
   ]
  },
  {
   "cell_type": "code",
   "execution_count": 3,
   "id": "ff0b3b7e",
   "metadata": {},
   "outputs": [],
   "source": [
    "# 전처리\n",
    "from sklearn.feature_extraction.text import TfidfVectorizer\n",
    "from nltk.corpus import stopwords\n",
    "\n",
    "cachedStopWords = stopwords.words('english')   # 불용어\n",
    "\n",
    "from nltk.tokenize import RegexpTokenizer\n",
    "from nltk.stem.porter import PorterStemmer\n",
    "\n",
    "# train/test split\n",
    "X_train = news_train.data\n",
    "y_train = news_train.target\n",
    "\n",
    "X_test = news_test.data\n",
    "y_test = news_test.target\n",
    "\n",
    "# 토큰화\n",
    "reg = RegexpTokenizer(\"[\\w']{3,}\")\n",
    "english_stops = set(stopwords.words('english'))"
   ]
  },
  {
   "cell_type": "code",
   "execution_count": 6,
   "id": "e05664b0",
   "metadata": {},
   "outputs": [
    {
     "name": "stdout",
     "output_type": "stream",
     "text": [
      "importing Jupyter notebook from pca.ipynb\n",
      "# Train score: 0.962\n",
      "# Test score: 0.761\n",
      "Original Tfidf matrix shape:  (2034, 20085)\n",
      "PCA Converted matrix shape:  (2034, 2000)\n",
      "Sum of explained variance ratio: 1.000\n",
      "# Train score: 0.962\n",
      "# Test score: 0.761\n",
      "# Train score: 0.790\n",
      "# Test score: 0.718\n",
      "# Used features: 321 out of  (2034, 20085)\n",
      "PCA Converted matrix shape:  (2034, 321)\n",
      "Sum of explained variance ratio: 0.437\n",
      "# Train score: 0.875\n",
      "# Test score: 0.751\n"
     ]
    }
   ],
   "source": [
    "# pca에서 토크나이저 임포트\n",
    "import import_ipynb\n",
    "from pca import tokenizer\n",
    "\n",
    "# tfidf\n",
    "tfidf = TfidfVectorizer(tokenizer=tokenizer)\n",
    "X_train_tfidf = tfidf.fit_transform(X_train)\n",
    "X_test_tfidf = tfidf.transform(X_test)"
   ]
  },
  {
   "cell_type": "code",
   "execution_count": 7,
   "id": "5cfe2683",
   "metadata": {},
   "outputs": [
    {
     "name": "stdout",
     "output_type": "stream",
     "text": [
      "LSA Converted X shape:  (2034, 2000)\n",
      "Sum of explained variance ratio: 1.000\n"
     ]
    }
   ],
   "source": [
    "# LSA\n",
    "from sklearn.decomposition import TruncatedSVD\n",
    "\n",
    "# pca과 마찬가지로 차원의 개수 2000개로 지정\n",
    "svd = TruncatedSVD(n_components=2000, random_state=7)\n",
    "X_train_lsa = svd.fit_transform(X_train_tfidf)\n",
    "X_test_lsa = svd.transform(X_test_tfidf)\n",
    "\n",
    "print(\"LSA Converted X shape: \", X_train_lsa.shape)\n",
    "\n",
    "print(\"Sum of explained variance ratio: {:.3f}\".format(svd.explained_variance_ratio_.sum()))"
   ]
  },
  {
   "cell_type": "code",
   "execution_count": 8,
   "id": "7b096fb3",
   "metadata": {},
   "outputs": [
    {
     "name": "stdout",
     "output_type": "stream",
     "text": [
      "# Train score: 0.962\n",
      "# Test score: 0.761\n"
     ]
    }
   ],
   "source": [
    "from sklearn.linear_model import LogisticRegression\n",
    "\n",
    "lr = LogisticRegression()\n",
    "lr.fit(X_train_lsa, y_train)\n",
    "\n",
    "print(\"# Train score: {:.3f}\".format(lr.score(X_train_lsa, y_train)))\n",
    "print(\"# Test score: {:.3f}\".format(lr.score(X_test_lsa, y_test)))"
   ]
  },
  {
   "cell_type": "code",
   "execution_count": 9,
   "id": "2834019c",
   "metadata": {},
   "outputs": [
    {
     "name": "stdout",
     "output_type": "stream",
     "text": [
      "LSA Converted X shape:  (2034, 100)\n",
      "Sum of explained variance ratio: 0.209\n",
      "# Train score: 0.810\n",
      "# Test score: 0.745\n"
     ]
    }
   ],
   "source": [
    "# 100개 차원으로 축소\n",
    "svd = TruncatedSVD(n_components=100, random_state=1)\n",
    "X_train_lsa = svd.fit_transform(X_train_tfidf)\n",
    "X_test_lsa = svd.transform(X_test_tfidf)\n",
    "\n",
    "print(\"LSA Converted X shape: \", X_train_lsa.shape)\n",
    "\n",
    "print(\"Sum of explained variance ratio: {:.3f}\".format(svd.explained_variance_ratio_.sum()))\n",
    "\n",
    "lr.fit(X_train_lsa, y_train)\n",
    "\n",
    "print(\"# Train score: {:.3f}\".format(lr.score(X_train_lsa, y_train)))\n",
    "print(\"# Test score: {:.3f}\".format(lr.score(X_test_lsa, y_test)))"
   ]
  },
  {
   "cell_type": "code",
   "execution_count": null,
   "id": "a5f152ea",
   "metadata": {},
   "outputs": [],
   "source": []
  }
 ],
 "metadata": {
  "kernelspec": {
   "display_name": "Python 3 (ipykernel)",
   "language": "python",
   "name": "python3"
  },
  "language_info": {
   "codemirror_mode": {
    "name": "ipython",
    "version": 3
   },
   "file_extension": ".py",
   "mimetype": "text/x-python",
   "name": "python",
   "nbconvert_exporter": "python",
   "pygments_lexer": "ipython3",
   "version": "3.9.7"
  }
 },
 "nbformat": 4,
 "nbformat_minor": 5
}
